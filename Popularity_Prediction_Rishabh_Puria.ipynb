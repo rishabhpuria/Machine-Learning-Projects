{
 "cells": [
  {
   "cell_type": "code",
   "execution_count": 1,
   "metadata": {
    "executionInfo": {
     "elapsed": 522,
     "status": "ok",
     "timestamp": 1645382192018,
     "user": {
      "displayName": "Rishabh Puria",
      "photoUrl": "https://lh3.googleusercontent.com/a-/AOh14Ggmltxl3VQ-uv5PMpLuhtPbAWCpE42SvddHRWw=s64",
      "userId": "13441611883412184745"
     },
     "user_tz": -330
    },
    "id": "cucPOBBxSrcK"
   },
   "outputs": [],
   "source": [
    "# from google.colab import drive"
   ]
  },
  {
   "cell_type": "code",
   "execution_count": 2,
   "metadata": {
    "colab": {
     "base_uri": "https://localhost:8080/"
    },
    "executionInfo": {
     "elapsed": 2983,
     "status": "ok",
     "timestamp": 1645382196745,
     "user": {
      "displayName": "Rishabh Puria",
      "photoUrl": "https://lh3.googleusercontent.com/a-/AOh14Ggmltxl3VQ-uv5PMpLuhtPbAWCpE42SvddHRWw=s64",
      "userId": "13441611883412184745"
     },
     "user_tz": -330
    },
    "id": "5tohBwwLTBLH",
    "outputId": "837c82d6-420a-42b7-f38f-222c4f84bbc3",
    "scrolled": true
   },
   "outputs": [],
   "source": [
    "# drive.mount('/content/drive')"
   ]
  },
  {
   "cell_type": "code",
   "execution_count": 3,
   "metadata": {},
   "outputs": [
    {
     "name": "stdout",
     "output_type": "stream",
     "text": [
      "Requirement already satisfied: imblearn in c:\\users\\seema\\anaconda3\\lib\\site-packages (0.0)Note: you may need to restart the kernel to use updated packages.\n",
      "\n",
      "Requirement already satisfied: imbalanced-learn in c:\\users\\seema\\anaconda3\\lib\\site-packages (from imblearn) (0.9.0)\n",
      "Requirement already satisfied: threadpoolctl>=2.0.0 in c:\\users\\seema\\anaconda3\\lib\\site-packages (from imbalanced-learn->imblearn) (2.2.0)\n",
      "Requirement already satisfied: joblib>=0.11 in c:\\users\\seema\\anaconda3\\lib\\site-packages (from imbalanced-learn->imblearn) (1.1.0)\n",
      "Requirement already satisfied: scipy>=1.1.0 in c:\\users\\seema\\anaconda3\\lib\\site-packages (from imbalanced-learn->imblearn) (1.7.1)\n",
      "Requirement already satisfied: scikit-learn>=1.0.1 in c:\\users\\seema\\anaconda3\\lib\\site-packages (from imbalanced-learn->imblearn) (1.0.2)\n",
      "Requirement already satisfied: numpy>=1.14.6 in c:\\users\\seema\\anaconda3\\lib\\site-packages (from imbalanced-learn->imblearn) (1.20.3)\n"
     ]
    }
   ],
   "source": [
    "pip install imblearn"
   ]
  },
  {
   "cell_type": "code",
   "execution_count": 4,
   "metadata": {
    "executionInfo": {
     "elapsed": 2082,
     "status": "ok",
     "timestamp": 1645382205036,
     "user": {
      "displayName": "Rishabh Puria",
      "photoUrl": "https://lh3.googleusercontent.com/a-/AOh14Ggmltxl3VQ-uv5PMpLuhtPbAWCpE42SvddHRWw=s64",
      "userId": "13441611883412184745"
     },
     "user_tz": -330
    },
    "id": "ZkrVaj6VTYQ8"
   },
   "outputs": [],
   "source": [
    "##  Importing Necessary Libraries \n",
    "\n",
    "import numpy as np\n",
    "import pandas as pd\n",
    "import seaborn as sns\n",
    "from matplotlib import pyplot as plt\n",
    "from scipy import stats\n",
    "\n",
    "from imblearn.over_sampling import SMOTE\n",
    "from sklearn.preprocessing import StandardScaler\n",
    "from sklearn.model_selection import train_test_split\n",
    "\n",
    "from sklearn.linear_model import LinearRegression\n",
    "\n",
    "from sklearn.linear_model import LogisticRegression\n",
    "from sklearn.neighbors import KNeighborsClassifier\n",
    "from sklearn.tree import DecisionTreeClassifier\n",
    "from sklearn.neural_network import MLPClassifier\n",
    "from sklearn.svm import SVC\n",
    "\n",
    "import warnings\n",
    "warnings.filterwarnings(\"ignore\")\n",
    "\n",
    "%matplotlib inline"
   ]
  },
  {
   "cell_type": "code",
   "execution_count": 5,
   "metadata": {
    "executionInfo": {
     "elapsed": 5690,
     "status": "ok",
     "timestamp": 1645383074875,
     "user": {
      "displayName": "Rishabh Puria",
      "photoUrl": "https://lh3.googleusercontent.com/a-/AOh14Ggmltxl3VQ-uv5PMpLuhtPbAWCpE42SvddHRWw=s64",
      "userId": "13441611883412184745"
     },
     "user_tz": -330
    },
    "id": "LxeRvBcjTkll"
   },
   "outputs": [],
   "source": [
    "# Reading our Data using Pandas DataFrame\n",
    "\n",
    "# df = pd.read_csv('/content/drive/MyDrive/EXL Project/spotify_tracks_metadata.csv')\n",
    "df = pd.read_csv('D:\\Rishabh\\EXL Project\\spotify_tracks_metadata.csv')"
   ]
  },
  {
   "cell_type": "code",
   "execution_count": 6,
   "metadata": {
    "colab": {
     "base_uri": "https://localhost:8080/",
     "height": 392
    },
    "executionInfo": {
     "elapsed": 547,
     "status": "ok",
     "timestamp": 1645383078390,
     "user": {
      "displayName": "Rishabh Puria",
      "photoUrl": "https://lh3.googleusercontent.com/a-/AOh14Ggmltxl3VQ-uv5PMpLuhtPbAWCpE42SvddHRWw=s64",
      "userId": "13441611883412184745"
     },
     "user_tz": -330
    },
    "id": "_CSA-hWyUsw_",
    "outputId": "2d2cf6b9-7145-4197-d303-ecb2ea729549"
   },
   "outputs": [
    {
     "data": {
      "text/html": [
       "<div>\n",
       "<style scoped>\n",
       "    .dataframe tbody tr th:only-of-type {\n",
       "        vertical-align: middle;\n",
       "    }\n",
       "\n",
       "    .dataframe tbody tr th {\n",
       "        vertical-align: top;\n",
       "    }\n",
       "\n",
       "    .dataframe thead th {\n",
       "        text-align: right;\n",
       "    }\n",
       "</style>\n",
       "<table border=\"1\" class=\"dataframe\">\n",
       "  <thead>\n",
       "    <tr style=\"text-align: right;\">\n",
       "      <th></th>\n",
       "      <th>Unnamed: 0</th>\n",
       "      <th>spotify_id</th>\n",
       "      <th>song_name</th>\n",
       "      <th>artist_name</th>\n",
       "      <th>song_popularity</th>\n",
       "      <th>album_release_date</th>\n",
       "      <th>album_release_year</th>\n",
       "      <th>album_release_month</th>\n",
       "      <th>analysis_url</th>\n",
       "      <th>acousticness</th>\n",
       "      <th>...</th>\n",
       "      <th>loudness</th>\n",
       "      <th>mode</th>\n",
       "      <th>song_explicit</th>\n",
       "      <th>speechiness</th>\n",
       "      <th>tempo</th>\n",
       "      <th>time_signature</th>\n",
       "      <th>total_available_markets</th>\n",
       "      <th>track_href</th>\n",
       "      <th>uri</th>\n",
       "      <th>valence</th>\n",
       "    </tr>\n",
       "  </thead>\n",
       "  <tbody>\n",
       "    <tr>\n",
       "      <th>0</th>\n",
       "      <td>0</td>\n",
       "      <td>7lPN2DXiMsVn7XUKtOW1CS</td>\n",
       "      <td>drivers license</td>\n",
       "      <td>Olivia Rodrigo</td>\n",
       "      <td>100</td>\n",
       "      <td>2021-01-08</td>\n",
       "      <td>2021.0</td>\n",
       "      <td>1.0</td>\n",
       "      <td>https://api.spotify.com/v1/audio-analysis/7lPN...</td>\n",
       "      <td>0.72100</td>\n",
       "      <td>...</td>\n",
       "      <td>-8.761</td>\n",
       "      <td>1.0</td>\n",
       "      <td>True</td>\n",
       "      <td>0.0601</td>\n",
       "      <td>143.874</td>\n",
       "      <td>4.0</td>\n",
       "      <td>170</td>\n",
       "      <td>https://api.spotify.com/v1/tracks/7lPN2DXiMsVn...</td>\n",
       "      <td>spotify:track:7lPN2DXiMsVn7XUKtOW1CS</td>\n",
       "      <td>0.132</td>\n",
       "    </tr>\n",
       "    <tr>\n",
       "      <th>1</th>\n",
       "      <td>1</td>\n",
       "      <td>5QO79kh1waicV47BqGRL3g</td>\n",
       "      <td>Save Your Tears</td>\n",
       "      <td>The Weeknd</td>\n",
       "      <td>96</td>\n",
       "      <td>2020-03-20</td>\n",
       "      <td>2020.0</td>\n",
       "      <td>3.0</td>\n",
       "      <td>https://api.spotify.com/v1/audio-analysis/5QO7...</td>\n",
       "      <td>0.02120</td>\n",
       "      <td>...</td>\n",
       "      <td>-5.487</td>\n",
       "      <td>1.0</td>\n",
       "      <td>True</td>\n",
       "      <td>0.0309</td>\n",
       "      <td>118.051</td>\n",
       "      <td>4.0</td>\n",
       "      <td>170</td>\n",
       "      <td>https://api.spotify.com/v1/tracks/5QO79kh1waic...</td>\n",
       "      <td>spotify:track:5QO79kh1waicV47BqGRL3g</td>\n",
       "      <td>0.644</td>\n",
       "    </tr>\n",
       "    <tr>\n",
       "      <th>2</th>\n",
       "      <td>2</td>\n",
       "      <td>0VjIjW4GlUZAMYd2vXMi3b</td>\n",
       "      <td>Blinding Lights</td>\n",
       "      <td>The Weeknd</td>\n",
       "      <td>96</td>\n",
       "      <td>2020-03-20</td>\n",
       "      <td>2020.0</td>\n",
       "      <td>3.0</td>\n",
       "      <td>https://api.spotify.com/v1/audio-analysis/0VjI...</td>\n",
       "      <td>0.00146</td>\n",
       "      <td>...</td>\n",
       "      <td>-5.934</td>\n",
       "      <td>1.0</td>\n",
       "      <td>False</td>\n",
       "      <td>0.0598</td>\n",
       "      <td>171.005</td>\n",
       "      <td>4.0</td>\n",
       "      <td>170</td>\n",
       "      <td>https://api.spotify.com/v1/tracks/0VjIjW4GlUZA...</td>\n",
       "      <td>spotify:track:0VjIjW4GlUZAMYd2vXMi3b</td>\n",
       "      <td>0.334</td>\n",
       "    </tr>\n",
       "    <tr>\n",
       "      <th>3</th>\n",
       "      <td>3</td>\n",
       "      <td>3tjFYV6RSFtuktYl3ZtYcq</td>\n",
       "      <td>Mood (feat. iann dior)</td>\n",
       "      <td>24kGoldn</td>\n",
       "      <td>95</td>\n",
       "      <td>2020-07-24</td>\n",
       "      <td>2020.0</td>\n",
       "      <td>7.0</td>\n",
       "      <td>https://api.spotify.com/v1/audio-analysis/3tjF...</td>\n",
       "      <td>0.22100</td>\n",
       "      <td>...</td>\n",
       "      <td>-3.558</td>\n",
       "      <td>0.0</td>\n",
       "      <td>True</td>\n",
       "      <td>0.0369</td>\n",
       "      <td>90.989</td>\n",
       "      <td>4.0</td>\n",
       "      <td>170</td>\n",
       "      <td>https://api.spotify.com/v1/tracks/3tjFYV6RSFtu...</td>\n",
       "      <td>spotify:track:3tjFYV6RSFtuktYl3ZtYcq</td>\n",
       "      <td>0.756</td>\n",
       "    </tr>\n",
       "    <tr>\n",
       "      <th>4</th>\n",
       "      <td>4</td>\n",
       "      <td>27OeeYzk6klgBh83TSvGMA</td>\n",
       "      <td>WITHOUT YOU</td>\n",
       "      <td>The Kid LAROI</td>\n",
       "      <td>94</td>\n",
       "      <td>2020-11-06</td>\n",
       "      <td>2020.0</td>\n",
       "      <td>11.0</td>\n",
       "      <td>https://api.spotify.com/v1/audio-analysis/27Oe...</td>\n",
       "      <td>0.21300</td>\n",
       "      <td>...</td>\n",
       "      <td>-7.357</td>\n",
       "      <td>1.0</td>\n",
       "      <td>True</td>\n",
       "      <td>0.0299</td>\n",
       "      <td>93.005</td>\n",
       "      <td>4.0</td>\n",
       "      <td>170</td>\n",
       "      <td>https://api.spotify.com/v1/tracks/27OeeYzk6klg...</td>\n",
       "      <td>spotify:track:27OeeYzk6klgBh83TSvGMA</td>\n",
       "      <td>0.467</td>\n",
       "    </tr>\n",
       "  </tbody>\n",
       "</table>\n",
       "<p>5 rows × 26 columns</p>\n",
       "</div>"
      ],
      "text/plain": [
       "   Unnamed: 0              spotify_id               song_name     artist_name  \\\n",
       "0           0  7lPN2DXiMsVn7XUKtOW1CS         drivers license  Olivia Rodrigo   \n",
       "1           1  5QO79kh1waicV47BqGRL3g         Save Your Tears      The Weeknd   \n",
       "2           2  0VjIjW4GlUZAMYd2vXMi3b         Blinding Lights      The Weeknd   \n",
       "3           3  3tjFYV6RSFtuktYl3ZtYcq  Mood (feat. iann dior)        24kGoldn   \n",
       "4           4  27OeeYzk6klgBh83TSvGMA             WITHOUT YOU   The Kid LAROI   \n",
       "\n",
       "   song_popularity album_release_date  album_release_year  \\\n",
       "0              100         2021-01-08              2021.0   \n",
       "1               96         2020-03-20              2020.0   \n",
       "2               96         2020-03-20              2020.0   \n",
       "3               95         2020-07-24              2020.0   \n",
       "4               94         2020-11-06              2020.0   \n",
       "\n",
       "   album_release_month                                       analysis_url  \\\n",
       "0                  1.0  https://api.spotify.com/v1/audio-analysis/7lPN...   \n",
       "1                  3.0  https://api.spotify.com/v1/audio-analysis/5QO7...   \n",
       "2                  3.0  https://api.spotify.com/v1/audio-analysis/0VjI...   \n",
       "3                  7.0  https://api.spotify.com/v1/audio-analysis/3tjF...   \n",
       "4                 11.0  https://api.spotify.com/v1/audio-analysis/27Oe...   \n",
       "\n",
       "   acousticness  ...  loudness  mode  song_explicit  speechiness    tempo  \\\n",
       "0       0.72100  ...    -8.761   1.0           True       0.0601  143.874   \n",
       "1       0.02120  ...    -5.487   1.0           True       0.0309  118.051   \n",
       "2       0.00146  ...    -5.934   1.0          False       0.0598  171.005   \n",
       "3       0.22100  ...    -3.558   0.0           True       0.0369   90.989   \n",
       "4       0.21300  ...    -7.357   1.0           True       0.0299   93.005   \n",
       "\n",
       "   time_signature  total_available_markets  \\\n",
       "0             4.0                      170   \n",
       "1             4.0                      170   \n",
       "2             4.0                      170   \n",
       "3             4.0                      170   \n",
       "4             4.0                      170   \n",
       "\n",
       "                                          track_href  \\\n",
       "0  https://api.spotify.com/v1/tracks/7lPN2DXiMsVn...   \n",
       "1  https://api.spotify.com/v1/tracks/5QO79kh1waic...   \n",
       "2  https://api.spotify.com/v1/tracks/0VjIjW4GlUZA...   \n",
       "3  https://api.spotify.com/v1/tracks/3tjFYV6RSFtu...   \n",
       "4  https://api.spotify.com/v1/tracks/27OeeYzk6klg...   \n",
       "\n",
       "                                    uri  valence  \n",
       "0  spotify:track:7lPN2DXiMsVn7XUKtOW1CS    0.132  \n",
       "1  spotify:track:5QO79kh1waicV47BqGRL3g    0.644  \n",
       "2  spotify:track:0VjIjW4GlUZAMYd2vXMi3b    0.334  \n",
       "3  spotify:track:3tjFYV6RSFtuktYl3ZtYcq    0.756  \n",
       "4  spotify:track:27OeeYzk6klgBh83TSvGMA    0.467  \n",
       "\n",
       "[5 rows x 26 columns]"
      ]
     },
     "execution_count": 6,
     "metadata": {},
     "output_type": "execute_result"
    }
   ],
   "source": [
    "df.head()"
   ]
  },
  {
   "cell_type": "markdown",
   "metadata": {
    "id": "NkCpCztv1dG2"
   },
   "source": [
    "# Data Exploration & Pre-Processing\n"
   ]
  },
  {
   "cell_type": "code",
   "execution_count": 7,
   "metadata": {
    "colab": {
     "base_uri": "https://localhost:8080/"
    },
    "executionInfo": {
     "elapsed": 400,
     "status": "ok",
     "timestamp": 1645383091052,
     "user": {
      "displayName": "Rishabh Puria",
      "photoUrl": "https://lh3.googleusercontent.com/a-/AOh14Ggmltxl3VQ-uv5PMpLuhtPbAWCpE42SvddHRWw=s64",
      "userId": "13441611883412184745"
     },
     "user_tz": -330
    },
    "id": "YxH2xkqeVR7y",
    "outputId": "d6ab721f-f130-4afe-d99c-75566ce0c507"
   },
   "outputs": [
    {
     "data": {
      "text/plain": [
       "(439893, 26)"
      ]
     },
     "execution_count": 7,
     "metadata": {},
     "output_type": "execute_result"
    }
   ],
   "source": [
    "df.shape # shows our DataFrame is structured as 439893 X 26 matrix or table, simply put."
   ]
  },
  {
   "cell_type": "code",
   "execution_count": 8,
   "metadata": {
    "colab": {
     "base_uri": "https://localhost:8080/"
    },
    "executionInfo": {
     "elapsed": 585,
     "status": "ok",
     "timestamp": 1645383093490,
     "user": {
      "displayName": "Rishabh Puria",
      "photoUrl": "https://lh3.googleusercontent.com/a-/AOh14Ggmltxl3VQ-uv5PMpLuhtPbAWCpE42SvddHRWw=s64",
      "userId": "13441611883412184745"
     },
     "user_tz": -330
    },
    "id": "m2Kx63DoUPfY",
    "outputId": "5021acc5-11d0-482c-c84d-dbe876915867"
   },
   "outputs": [
    {
     "name": "stdout",
     "output_type": "stream",
     "text": [
      "<class 'pandas.core.frame.DataFrame'>\n",
      "RangeIndex: 439893 entries, 0 to 439892\n",
      "Data columns (total 26 columns):\n",
      " #   Column                   Non-Null Count   Dtype  \n",
      "---  ------                   --------------   -----  \n",
      " 0   Unnamed: 0               439893 non-null  int64  \n",
      " 1   spotify_id               439893 non-null  object \n",
      " 2   song_name                439891 non-null  object \n",
      " 3   artist_name              439884 non-null  object \n",
      " 4   song_popularity          439893 non-null  int64  \n",
      " 5   album_release_date       439893 non-null  object \n",
      " 6   album_release_year       439690 non-null  float64\n",
      " 7   album_release_month      420559 non-null  float64\n",
      " 8   analysis_url             439893 non-null  object \n",
      " 9   acousticness             439893 non-null  float64\n",
      " 10  danceability             439893 non-null  float64\n",
      " 11  duration_ms              439893 non-null  float64\n",
      " 12  energy                   439893 non-null  float64\n",
      " 13  instrumentalness         439893 non-null  float64\n",
      " 14  key                      439893 non-null  float64\n",
      " 15  liveness                 439893 non-null  float64\n",
      " 16  loudness                 439893 non-null  float64\n",
      " 17  mode                     439893 non-null  float64\n",
      " 18  song_explicit            439893 non-null  bool   \n",
      " 19  speechiness              439893 non-null  float64\n",
      " 20  tempo                    439893 non-null  float64\n",
      " 21  time_signature           439893 non-null  float64\n",
      " 22  total_available_markets  439893 non-null  int64  \n",
      " 23  track_href               439893 non-null  object \n",
      " 24  uri                      439893 non-null  object \n",
      " 25  valence                  439893 non-null  float64\n",
      "dtypes: bool(1), float64(15), int64(3), object(7)\n",
      "memory usage: 84.3+ MB\n"
     ]
    }
   ],
   "source": [
    "df.info() # Displays the Count values, Data types etc. associated with each feature."
   ]
  },
  {
   "cell_type": "code",
   "execution_count": 9,
   "metadata": {
    "colab": {
     "base_uri": "https://localhost:8080/"
    },
    "executionInfo": {
     "elapsed": 485,
     "status": "ok",
     "timestamp": 1645383103675,
     "user": {
      "displayName": "Rishabh Puria",
      "photoUrl": "https://lh3.googleusercontent.com/a-/AOh14Ggmltxl3VQ-uv5PMpLuhtPbAWCpE42SvddHRWw=s64",
      "userId": "13441611883412184745"
     },
     "user_tz": -330
    },
    "id": "bkgjYXdYXF7K",
    "outputId": "0d744a5e-9bc4-4f29-dbc4-8a1dbe4549ef"
   },
   "outputs": [
    {
     "data": {
      "text/plain": [
       "Unnamed: 0                     0\n",
       "spotify_id                     0\n",
       "song_name                      2\n",
       "artist_name                    9\n",
       "song_popularity                0\n",
       "album_release_date             0\n",
       "album_release_year           203\n",
       "album_release_month        19334\n",
       "analysis_url                   0\n",
       "acousticness                   0\n",
       "danceability                   0\n",
       "duration_ms                    0\n",
       "energy                         0\n",
       "instrumentalness               0\n",
       "key                            0\n",
       "liveness                       0\n",
       "loudness                       0\n",
       "mode                           0\n",
       "song_explicit                  0\n",
       "speechiness                    0\n",
       "tempo                          0\n",
       "time_signature                 0\n",
       "total_available_markets        0\n",
       "track_href                     0\n",
       "uri                            0\n",
       "valence                        0\n",
       "dtype: int64"
      ]
     },
     "execution_count": 9,
     "metadata": {},
     "output_type": "execute_result"
    }
   ],
   "source": [
    "df.isnull().sum() # Detecting Null aka Missing Values present in our DataFrame"
   ]
  },
  {
   "cell_type": "code",
   "execution_count": 10,
   "metadata": {
    "colab": {
     "base_uri": "https://localhost:8080/",
     "height": 721
    },
    "executionInfo": {
     "elapsed": 16025,
     "status": "ok",
     "timestamp": 1645383126173,
     "user": {
      "displayName": "Rishabh Puria",
      "photoUrl": "https://lh3.googleusercontent.com/a-/AOh14Ggmltxl3VQ-uv5PMpLuhtPbAWCpE42SvddHRWw=s64",
      "userId": "13441611883412184745"
     },
     "user_tz": -330
    },
    "id": "JFEwwnN2YtHd",
    "outputId": "e6682586-6395-4f1b-9460-ae707b9b2dcd"
   },
   "outputs": [
    {
     "data": {
      "text/plain": [
       "<AxesSubplot:>"
      ]
     },
     "execution_count": 10,
     "metadata": {},
     "output_type": "execute_result"
    },
    {
     "data": {
      "image/png": "[encoded data removed]",
      "text/plain": [
       "<Figure size 1800x720 with 2 Axes>"
      ]
     },
     "metadata": {
      "needs_background": "light"
     },
     "output_type": "display_data"
    }
   ],
   "source": [
    "## Visualizing missing or null values\n",
    "\n",
    "plt.figure(figsize = (25,10))\n",
    "sns.heatmap(df.isnull(), yticklabels = False)"
   ]
  },
  {
   "cell_type": "code",
   "execution_count": 11,
   "metadata": {
    "colab": {
     "base_uri": "https://localhost:8080/"
    },
    "executionInfo": {
     "elapsed": 1596,
     "status": "ok",
     "timestamp": 1645383132264,
     "user": {
      "displayName": "Rishabh Puria",
      "photoUrl": "https://lh3.googleusercontent.com/a-/AOh14Ggmltxl3VQ-uv5PMpLuhtPbAWCpE42SvddHRWw=s64",
      "userId": "13441611883412184745"
     },
     "user_tz": -330
    },
    "id": "0l2Ra3jn10qT",
    "outputId": "4e1ef87d-82fb-4810-d71b-6ef011343301"
   },
   "outputs": [
    {
     "name": "stdout",
     "output_type": "stream",
     "text": [
      "Unnamed: 0                 439893\n",
      "spotify_id                 439889\n",
      "song_name                  374226\n",
      "artist_name                124471\n",
      "song_popularity                98\n",
      "album_release_date          10575\n",
      "album_release_year            100\n",
      "album_release_month            12\n",
      "analysis_url               439889\n",
      "acousticness                 5247\n",
      "danceability                 1331\n",
      "duration_ms                165456\n",
      "energy                       2879\n",
      "instrumentalness             5402\n",
      "key                            12\n",
      "liveness                     1764\n",
      "loudness                    32160\n",
      "mode                            2\n",
      "song_explicit                   2\n",
      "speechiness                  1652\n",
      "tempo                      103286\n",
      "time_signature                  5\n",
      "total_available_markets       171\n",
      "track_href                 439889\n",
      "uri                        439889\n",
      "valence                      2060\n",
      "dtype: int64\n"
     ]
    }
   ],
   "source": [
    "# Checking for unique values associated with each feature\n",
    "\n",
    "print(df.nunique())"
   ]
  },
  {
   "cell_type": "code",
   "execution_count": 12,
   "metadata": {
    "executionInfo": {
     "elapsed": 439,
     "status": "ok",
     "timestamp": 1645383137636,
     "user": {
      "displayName": "Rishabh Puria",
      "photoUrl": "https://lh3.googleusercontent.com/a-/AOh14Ggmltxl3VQ-uv5PMpLuhtPbAWCpE42SvddHRWw=s64",
      "userId": "13441611883412184745"
     },
     "user_tz": -330
    },
    "id": "-PEoTcA-fBJI"
   },
   "outputs": [
    {
     "data": {
      "text/html": [
       "<div>\n",
       "<style scoped>\n",
       "    .dataframe tbody tr th:only-of-type {\n",
       "        vertical-align: middle;\n",
       "    }\n",
       "\n",
       "    .dataframe tbody tr th {\n",
       "        vertical-align: top;\n",
       "    }\n",
       "\n",
       "    .dataframe thead th {\n",
       "        text-align: right;\n",
       "    }\n",
       "</style>\n",
       "<table border=\"1\" class=\"dataframe\">\n",
       "  <thead>\n",
       "    <tr style=\"text-align: right;\">\n",
       "      <th></th>\n",
       "      <th>spotify_id</th>\n",
       "      <th>song_name</th>\n",
       "      <th>artist_name</th>\n",
       "      <th>song_popularity</th>\n",
       "      <th>album_release_date</th>\n",
       "      <th>album_release_year</th>\n",
       "      <th>album_release_month</th>\n",
       "      <th>analysis_url</th>\n",
       "      <th>acousticness</th>\n",
       "      <th>danceability</th>\n",
       "      <th>...</th>\n",
       "      <th>loudness</th>\n",
       "      <th>mode</th>\n",
       "      <th>song_explicit</th>\n",
       "      <th>speechiness</th>\n",
       "      <th>tempo</th>\n",
       "      <th>time_signature</th>\n",
       "      <th>total_available_markets</th>\n",
       "      <th>track_href</th>\n",
       "      <th>uri</th>\n",
       "      <th>valence</th>\n",
       "    </tr>\n",
       "  </thead>\n",
       "  <tbody>\n",
       "    <tr>\n",
       "      <th>0</th>\n",
       "      <td>7lPN2DXiMsVn7XUKtOW1CS</td>\n",
       "      <td>drivers license</td>\n",
       "      <td>Olivia Rodrigo</td>\n",
       "      <td>100</td>\n",
       "      <td>2021-01-08</td>\n",
       "      <td>2021.0</td>\n",
       "      <td>1.0</td>\n",
       "      <td>https://api.spotify.com/v1/audio-analysis/7lPN...</td>\n",
       "      <td>0.72100</td>\n",
       "      <td>0.585</td>\n",
       "      <td>...</td>\n",
       "      <td>-8.761</td>\n",
       "      <td>1.0</td>\n",
       "      <td>True</td>\n",
       "      <td>0.0601</td>\n",
       "      <td>143.874</td>\n",
       "      <td>4.0</td>\n",
       "      <td>170</td>\n",
       "      <td>https://api.spotify.com/v1/tracks/7lPN2DXiMsVn...</td>\n",
       "      <td>spotify:track:7lPN2DXiMsVn7XUKtOW1CS</td>\n",
       "      <td>0.132</td>\n",
       "    </tr>\n",
       "    <tr>\n",
       "      <th>1</th>\n",
       "      <td>5QO79kh1waicV47BqGRL3g</td>\n",
       "      <td>Save Your Tears</td>\n",
       "      <td>The Weeknd</td>\n",
       "      <td>96</td>\n",
       "      <td>2020-03-20</td>\n",
       "      <td>2020.0</td>\n",
       "      <td>3.0</td>\n",
       "      <td>https://api.spotify.com/v1/audio-analysis/5QO7...</td>\n",
       "      <td>0.02120</td>\n",
       "      <td>0.680</td>\n",
       "      <td>...</td>\n",
       "      <td>-5.487</td>\n",
       "      <td>1.0</td>\n",
       "      <td>True</td>\n",
       "      <td>0.0309</td>\n",
       "      <td>118.051</td>\n",
       "      <td>4.0</td>\n",
       "      <td>170</td>\n",
       "      <td>https://api.spotify.com/v1/tracks/5QO79kh1waic...</td>\n",
       "      <td>spotify:track:5QO79kh1waicV47BqGRL3g</td>\n",
       "      <td>0.644</td>\n",
       "    </tr>\n",
       "    <tr>\n",
       "      <th>2</th>\n",
       "      <td>0VjIjW4GlUZAMYd2vXMi3b</td>\n",
       "      <td>Blinding Lights</td>\n",
       "      <td>The Weeknd</td>\n",
       "      <td>96</td>\n",
       "      <td>2020-03-20</td>\n",
       "      <td>2020.0</td>\n",
       "      <td>3.0</td>\n",
       "      <td>https://api.spotify.com/v1/audio-analysis/0VjI...</td>\n",
       "      <td>0.00146</td>\n",
       "      <td>0.514</td>\n",
       "      <td>...</td>\n",
       "      <td>-5.934</td>\n",
       "      <td>1.0</td>\n",
       "      <td>False</td>\n",
       "      <td>0.0598</td>\n",
       "      <td>171.005</td>\n",
       "      <td>4.0</td>\n",
       "      <td>170</td>\n",
       "      <td>https://api.spotify.com/v1/tracks/0VjIjW4GlUZA...</td>\n",
       "      <td>spotify:track:0VjIjW4GlUZAMYd2vXMi3b</td>\n",
       "      <td>0.334</td>\n",
       "    </tr>\n",
       "    <tr>\n",
       "      <th>3</th>\n",
       "      <td>3tjFYV6RSFtuktYl3ZtYcq</td>\n",
       "      <td>Mood (feat. iann dior)</td>\n",
       "      <td>24kGoldn</td>\n",
       "      <td>95</td>\n",
       "      <td>2020-07-24</td>\n",
       "      <td>2020.0</td>\n",
       "      <td>7.0</td>\n",
       "      <td>https://api.spotify.com/v1/audio-analysis/3tjF...</td>\n",
       "      <td>0.22100</td>\n",
       "      <td>0.700</td>\n",
       "      <td>...</td>\n",
       "      <td>-3.558</td>\n",
       "      <td>0.0</td>\n",
       "      <td>True</td>\n",
       "      <td>0.0369</td>\n",
       "      <td>90.989</td>\n",
       "      <td>4.0</td>\n",
       "      <td>170</td>\n",
       "      <td>https://api.spotify.com/v1/tracks/3tjFYV6RSFtu...</td>\n",
       "      <td>spotify:track:3tjFYV6RSFtuktYl3ZtYcq</td>\n",
       "      <td>0.756</td>\n",
       "    </tr>\n",
       "    <tr>\n",
       "      <th>4</th>\n",
       "      <td>27OeeYzk6klgBh83TSvGMA</td>\n",
       "      <td>WITHOUT YOU</td>\n",
       "      <td>The Kid LAROI</td>\n",
       "      <td>94</td>\n",
       "      <td>2020-11-06</td>\n",
       "      <td>2020.0</td>\n",
       "      <td>11.0</td>\n",
       "      <td>https://api.spotify.com/v1/audio-analysis/27Oe...</td>\n",
       "      <td>0.21300</td>\n",
       "      <td>0.662</td>\n",
       "      <td>...</td>\n",
       "      <td>-7.357</td>\n",
       "      <td>1.0</td>\n",
       "      <td>True</td>\n",
       "      <td>0.0299</td>\n",
       "      <td>93.005</td>\n",
       "      <td>4.0</td>\n",
       "      <td>170</td>\n",
       "      <td>https://api.spotify.com/v1/tracks/27OeeYzk6klg...</td>\n",
       "      <td>spotify:track:27OeeYzk6klgBh83TSvGMA</td>\n",
       "      <td>0.467</td>\n",
       "    </tr>\n",
       "  </tbody>\n",
       "</table>\n",
       "<p>5 rows × 25 columns</p>\n",
       "</div>"
      ],
      "text/plain": [
       "               spotify_id               song_name     artist_name  \\\n",
       "0  7lPN2DXiMsVn7XUKtOW1CS         drivers license  Olivia Rodrigo   \n",
       "1  5QO79kh1waicV47BqGRL3g         Save Your Tears      The Weeknd   \n",
       "2  0VjIjW4GlUZAMYd2vXMi3b         Blinding Lights      The Weeknd   \n",
       "3  3tjFYV6RSFtuktYl3ZtYcq  Mood (feat. iann dior)        24kGoldn   \n",
       "4  27OeeYzk6klgBh83TSvGMA             WITHOUT YOU   The Kid LAROI   \n",
       "\n",
       "   song_popularity album_release_date  album_release_year  \\\n",
       "0              100         2021-01-08              2021.0   \n",
       "1               96         2020-03-20              2020.0   \n",
       "2               96         2020-03-20              2020.0   \n",
       "3               95         2020-07-24              2020.0   \n",
       "4               94         2020-11-06              2020.0   \n",
       "\n",
       "   album_release_month                                       analysis_url  \\\n",
       "0                  1.0  https://api.spotify.com/v1/audio-analysis/7lPN...   \n",
       "1                  3.0  https://api.spotify.com/v1/audio-analysis/5QO7...   \n",
       "2                  3.0  https://api.spotify.com/v1/audio-analysis/0VjI...   \n",
       "3                  7.0  https://api.spotify.com/v1/audio-analysis/3tjF...   \n",
       "4                 11.0  https://api.spotify.com/v1/audio-analysis/27Oe...   \n",
       "\n",
       "   acousticness  danceability  ...  loudness  mode  song_explicit  \\\n",
       "0       0.72100         0.585  ...    -8.761   1.0           True   \n",
       "1       0.02120         0.680  ...    -5.487   1.0           True   \n",
       "2       0.00146         0.514  ...    -5.934   1.0          False   \n",
       "3       0.22100         0.700  ...    -3.558   0.0           True   \n",
       "4       0.21300         0.662  ...    -7.357   1.0           True   \n",
       "\n",
       "   speechiness    tempo  time_signature  total_available_markets  \\\n",
       "0       0.0601  143.874             4.0                      170   \n",
       "1       0.0309  118.051             4.0                      170   \n",
       "2       0.0598  171.005             4.0                      170   \n",
       "3       0.0369   90.989             4.0                      170   \n",
       "4       0.0299   93.005             4.0                      170   \n",
       "\n",
       "                                          track_href  \\\n",
       "0  https://api.spotify.com/v1/tracks/7lPN2DXiMsVn...   \n",
       "1  https://api.spotify.com/v1/tracks/5QO79kh1waic...   \n",
       "2  https://api.spotify.com/v1/tracks/0VjIjW4GlUZA...   \n",
       "3  https://api.spotify.com/v1/tracks/3tjFYV6RSFtu...   \n",
       "4  https://api.spotify.com/v1/tracks/27OeeYzk6klg...   \n",
       "\n",
       "                                    uri  valence  \n",
       "0  spotify:track:7lPN2DXiMsVn7XUKtOW1CS    0.132  \n",
       "1  spotify:track:5QO79kh1waicV47BqGRL3g    0.644  \n",
       "2  spotify:track:0VjIjW4GlUZAMYd2vXMi3b    0.334  \n",
       "3  spotify:track:3tjFYV6RSFtuktYl3ZtYcq    0.756  \n",
       "4  spotify:track:27OeeYzk6klgBh83TSvGMA    0.467  \n",
       "\n",
       "[5 rows x 25 columns]"
      ]
     },
     "execution_count": 12,
     "metadata": {},
     "output_type": "execute_result"
    }
   ],
   "source": [
    "# dropping unnamed column which seems to be a unique identifier or index but of no use to us.\n",
    "\n",
    "df1 = df.drop(df.columns[0], axis=1)\n",
    "df1.head()"
   ]
  },
  {
   "cell_type": "code",
   "execution_count": 13,
   "metadata": {
    "colab": {
     "base_uri": "https://localhost:8080/"
    },
    "executionInfo": {
     "elapsed": 392,
     "status": "ok",
     "timestamp": 1645383149030,
     "user": {
      "displayName": "Rishabh Puria",
      "photoUrl": "https://lh3.googleusercontent.com/a-/AOh14Ggmltxl3VQ-uv5PMpLuhtPbAWCpE42SvddHRWw=s64",
      "userId": "13441611883412184745"
     },
     "user_tz": -330
    },
    "id": "ygqE4q6eZUDN",
    "outputId": "40928e66-293a-4f2d-95ab-3bb386337536"
   },
   "outputs": [
    {
     "data": {
      "text/plain": [
       "spotify_id                     0\n",
       "song_name                      2\n",
       "artist_name                    9\n",
       "song_popularity                0\n",
       "album_release_date             0\n",
       "album_release_year           203\n",
       "album_release_month        19334\n",
       "analysis_url                   0\n",
       "acousticness                   0\n",
       "danceability                   0\n",
       "duration_ms                    0\n",
       "energy                         0\n",
       "instrumentalness               0\n",
       "key                            0\n",
       "liveness                       0\n",
       "loudness                       0\n",
       "mode                           0\n",
       "song_explicit                  0\n",
       "speechiness                    0\n",
       "tempo                          0\n",
       "time_signature                 0\n",
       "total_available_markets        0\n",
       "track_href                     0\n",
       "uri                            0\n",
       "valence                        0\n",
       "dtype: int64"
      ]
     },
     "execution_count": 13,
     "metadata": {},
     "output_type": "execute_result"
    }
   ],
   "source": [
    "# Calculating missing or null values\n",
    "\n",
    "df1.isnull().sum()   # Most of the nulls or missing values are associated with 2 columns 'album_release_year' and 'album_release_month'"
   ]
  },
  {
   "cell_type": "markdown",
   "metadata": {
    "id": "6TDytCUag6e0"
   },
   "source": [
    "#### **Dropping few features, owing to limited computational capabilities:**\n",
    "\n",
    "\n",
    "1. spotify_id (Act as an identifier and is safe to remove, for now)\n",
    "2. song_name (removing for simplification, for now)\n",
    "3. artist_name (Categorical in nature but the unique artists are almost '124471' - if we were to keep this information the dummies generated would be very high, so for the sake of simplicity we are ignoring it for now)\n",
    "4. album_release_date (removing for simplification, for now)\n",
    "5. album_release_year (removing for simplification, for now)\n",
    "6. album_release_month (removing for simplification, for now)\n",
    "7. analysis_url\n",
    "8. track_href\n",
    "9. uri "
   ]
  },
  {
   "cell_type": "code",
   "execution_count": 14,
   "metadata": {
    "executionInfo": {
     "elapsed": 393,
     "status": "ok",
     "timestamp": 1645391674082,
     "user": {
      "displayName": "Rishabh Puria",
      "photoUrl": "https://lh3.googleusercontent.com/a-/AOh14Ggmltxl3VQ-uv5PMpLuhtPbAWCpE42SvddHRWw=s64",
      "userId": "13441611883412184745"
     },
     "user_tz": -330
    },
    "id": "OxmxCp4mjq0D"
   },
   "outputs": [],
   "source": [
    "df2 = df1.drop(['spotify_id', 'song_name', 'artist_name', 'album_release_date', 'album_release_year','album_release_month','analysis_url','track_href','uri'], axis = 1)"
   ]
  },
  {
   "cell_type": "code",
   "execution_count": 15,
   "metadata": {
    "colab": {
     "base_uri": "https://localhost:8080/",
     "height": 206
    },
    "executionInfo": {
     "elapsed": 424,
     "status": "ok",
     "timestamp": 1645383173777,
     "user": {
      "displayName": "Rishabh Puria",
      "photoUrl": "https://lh3.googleusercontent.com/a-/AOh14Ggmltxl3VQ-uv5PMpLuhtPbAWCpE42SvddHRWw=s64",
      "userId": "13441611883412184745"
     },
     "user_tz": -330
    },
    "id": "MuCHNgcRjq66",
    "outputId": "4ea477fa-5d8b-4bc4-ac63-f98c3cf54fd0"
   },
   "outputs": [
    {
     "data": {
      "text/html": [
       "<div>\n",
       "<style scoped>\n",
       "    .dataframe tbody tr th:only-of-type {\n",
       "        vertical-align: middle;\n",
       "    }\n",
       "\n",
       "    .dataframe tbody tr th {\n",
       "        vertical-align: top;\n",
       "    }\n",
       "\n",
       "    .dataframe thead th {\n",
       "        text-align: right;\n",
       "    }\n",
       "</style>\n",
       "<table border=\"1\" class=\"dataframe\">\n",
       "  <thead>\n",
       "    <tr style=\"text-align: right;\">\n",
       "      <th></th>\n",
       "      <th>song_popularity</th>\n",
       "      <th>acousticness</th>\n",
       "      <th>danceability</th>\n",
       "      <th>duration_ms</th>\n",
       "      <th>energy</th>\n",
       "      <th>instrumentalness</th>\n",
       "      <th>key</th>\n",
       "      <th>liveness</th>\n",
       "      <th>loudness</th>\n",
       "      <th>mode</th>\n",
       "      <th>song_explicit</th>\n",
       "      <th>speechiness</th>\n",
       "      <th>tempo</th>\n",
       "      <th>time_signature</th>\n",
       "      <th>total_available_markets</th>\n",
       "      <th>valence</th>\n",
       "    </tr>\n",
       "  </thead>\n",
       "  <tbody>\n",
       "    <tr>\n",
       "      <th>0</th>\n",
       "      <td>100</td>\n",
       "      <td>0.72100</td>\n",
       "      <td>0.585</td>\n",
       "      <td>242014.0</td>\n",
       "      <td>0.436</td>\n",
       "      <td>0.000013</td>\n",
       "      <td>10.0</td>\n",
       "      <td>0.1050</td>\n",
       "      <td>-8.761</td>\n",
       "      <td>1.0</td>\n",
       "      <td>True</td>\n",
       "      <td>0.0601</td>\n",
       "      <td>143.874</td>\n",
       "      <td>4.0</td>\n",
       "      <td>170</td>\n",
       "      <td>0.132</td>\n",
       "    </tr>\n",
       "    <tr>\n",
       "      <th>1</th>\n",
       "      <td>96</td>\n",
       "      <td>0.02120</td>\n",
       "      <td>0.680</td>\n",
       "      <td>215627.0</td>\n",
       "      <td>0.826</td>\n",
       "      <td>0.000012</td>\n",
       "      <td>0.0</td>\n",
       "      <td>0.5430</td>\n",
       "      <td>-5.487</td>\n",
       "      <td>1.0</td>\n",
       "      <td>True</td>\n",
       "      <td>0.0309</td>\n",
       "      <td>118.051</td>\n",
       "      <td>4.0</td>\n",
       "      <td>170</td>\n",
       "      <td>0.644</td>\n",
       "    </tr>\n",
       "    <tr>\n",
       "      <th>2</th>\n",
       "      <td>96</td>\n",
       "      <td>0.00146</td>\n",
       "      <td>0.514</td>\n",
       "      <td>200040.0</td>\n",
       "      <td>0.730</td>\n",
       "      <td>0.000095</td>\n",
       "      <td>1.0</td>\n",
       "      <td>0.0897</td>\n",
       "      <td>-5.934</td>\n",
       "      <td>1.0</td>\n",
       "      <td>False</td>\n",
       "      <td>0.0598</td>\n",
       "      <td>171.005</td>\n",
       "      <td>4.0</td>\n",
       "      <td>170</td>\n",
       "      <td>0.334</td>\n",
       "    </tr>\n",
       "    <tr>\n",
       "      <th>3</th>\n",
       "      <td>95</td>\n",
       "      <td>0.22100</td>\n",
       "      <td>0.700</td>\n",
       "      <td>140526.0</td>\n",
       "      <td>0.722</td>\n",
       "      <td>0.000000</td>\n",
       "      <td>7.0</td>\n",
       "      <td>0.2720</td>\n",
       "      <td>-3.558</td>\n",
       "      <td>0.0</td>\n",
       "      <td>True</td>\n",
       "      <td>0.0369</td>\n",
       "      <td>90.989</td>\n",
       "      <td>4.0</td>\n",
       "      <td>170</td>\n",
       "      <td>0.756</td>\n",
       "    </tr>\n",
       "    <tr>\n",
       "      <th>4</th>\n",
       "      <td>94</td>\n",
       "      <td>0.21300</td>\n",
       "      <td>0.662</td>\n",
       "      <td>161385.0</td>\n",
       "      <td>0.413</td>\n",
       "      <td>0.000000</td>\n",
       "      <td>0.0</td>\n",
       "      <td>0.1340</td>\n",
       "      <td>-7.357</td>\n",
       "      <td>1.0</td>\n",
       "      <td>True</td>\n",
       "      <td>0.0299</td>\n",
       "      <td>93.005</td>\n",
       "      <td>4.0</td>\n",
       "      <td>170</td>\n",
       "      <td>0.467</td>\n",
       "    </tr>\n",
       "  </tbody>\n",
       "</table>\n",
       "</div>"
      ],
      "text/plain": [
       "   song_popularity  acousticness  danceability  duration_ms  energy  \\\n",
       "0              100       0.72100         0.585     242014.0   0.436   \n",
       "1               96       0.02120         0.680     215627.0   0.826   \n",
       "2               96       0.00146         0.514     200040.0   0.730   \n",
       "3               95       0.22100         0.700     140526.0   0.722   \n",
       "4               94       0.21300         0.662     161385.0   0.413   \n",
       "\n",
       "   instrumentalness   key  liveness  loudness  mode  song_explicit  \\\n",
       "0          0.000013  10.0    0.1050    -8.761   1.0           True   \n",
       "1          0.000012   0.0    0.5430    -5.487   1.0           True   \n",
       "2          0.000095   1.0    0.0897    -5.934   1.0          False   \n",
       "3          0.000000   7.0    0.2720    -3.558   0.0           True   \n",
       "4          0.000000   0.0    0.1340    -7.357   1.0           True   \n",
       "\n",
       "   speechiness    tempo  time_signature  total_available_markets  valence  \n",
       "0       0.0601  143.874             4.0                      170    0.132  \n",
       "1       0.0309  118.051             4.0                      170    0.644  \n",
       "2       0.0598  171.005             4.0                      170    0.334  \n",
       "3       0.0369   90.989             4.0                      170    0.756  \n",
       "4       0.0299   93.005             4.0                      170    0.467  "
      ]
     },
     "execution_count": 15,
     "metadata": {},
     "output_type": "execute_result"
    }
   ],
   "source": [
    "df2.head()"
   ]
  },
  {
   "cell_type": "code",
   "execution_count": 16,
   "metadata": {
    "colab": {
     "base_uri": "https://localhost:8080/",
     "height": 250
    },
    "executionInfo": {
     "elapsed": 415,
     "status": "ok",
     "timestamp": 1645383183254,
     "user": {
      "displayName": "Rishabh Puria",
      "photoUrl": "https://lh3.googleusercontent.com/a-/AOh14Ggmltxl3VQ-uv5PMpLuhtPbAWCpE42SvddHRWw=s64",
      "userId": "13441611883412184745"
     },
     "user_tz": -330
    },
    "id": "suUbWZiXjrBI",
    "outputId": "b0167290-2cdb-4e20-c63b-dbbc5fb38934"
   },
   "outputs": [
    {
     "data": {
      "text/html": [
       "<div>\n",
       "<style scoped>\n",
       "    .dataframe tbody tr th:only-of-type {\n",
       "        vertical-align: middle;\n",
       "    }\n",
       "\n",
       "    .dataframe tbody tr th {\n",
       "        vertical-align: top;\n",
       "    }\n",
       "\n",
       "    .dataframe thead th {\n",
       "        text-align: right;\n",
       "    }\n",
       "</style>\n",
       "<table border=\"1\" class=\"dataframe\">\n",
       "  <thead>\n",
       "    <tr style=\"text-align: right;\">\n",
       "      <th></th>\n",
       "      <th>acousticness</th>\n",
       "      <th>danceability</th>\n",
       "      <th>duration_min</th>\n",
       "      <th>duration_ms</th>\n",
       "      <th>energy</th>\n",
       "      <th>instrumentalness</th>\n",
       "      <th>key</th>\n",
       "      <th>liveness</th>\n",
       "      <th>loudness</th>\n",
       "      <th>mode</th>\n",
       "      <th>song_explicit</th>\n",
       "      <th>song_popularity</th>\n",
       "      <th>speechiness</th>\n",
       "      <th>tempo</th>\n",
       "      <th>time_signature</th>\n",
       "      <th>total_available_markets</th>\n",
       "      <th>valence</th>\n",
       "    </tr>\n",
       "  </thead>\n",
       "  <tbody>\n",
       "    <tr>\n",
       "      <th>0</th>\n",
       "      <td>0.72100</td>\n",
       "      <td>0.585</td>\n",
       "      <td>4.033567</td>\n",
       "      <td>242014.0</td>\n",
       "      <td>0.436</td>\n",
       "      <td>0.000013</td>\n",
       "      <td>10.0</td>\n",
       "      <td>0.1050</td>\n",
       "      <td>-8.761</td>\n",
       "      <td>1.0</td>\n",
       "      <td>True</td>\n",
       "      <td>100</td>\n",
       "      <td>0.0601</td>\n",
       "      <td>143.874</td>\n",
       "      <td>4.0</td>\n",
       "      <td>170</td>\n",
       "      <td>0.132</td>\n",
       "    </tr>\n",
       "    <tr>\n",
       "      <th>1</th>\n",
       "      <td>0.02120</td>\n",
       "      <td>0.680</td>\n",
       "      <td>3.593783</td>\n",
       "      <td>215627.0</td>\n",
       "      <td>0.826</td>\n",
       "      <td>0.000012</td>\n",
       "      <td>0.0</td>\n",
       "      <td>0.5430</td>\n",
       "      <td>-5.487</td>\n",
       "      <td>1.0</td>\n",
       "      <td>True</td>\n",
       "      <td>96</td>\n",
       "      <td>0.0309</td>\n",
       "      <td>118.051</td>\n",
       "      <td>4.0</td>\n",
       "      <td>170</td>\n",
       "      <td>0.644</td>\n",
       "    </tr>\n",
       "    <tr>\n",
       "      <th>2</th>\n",
       "      <td>0.00146</td>\n",
       "      <td>0.514</td>\n",
       "      <td>3.334000</td>\n",
       "      <td>200040.0</td>\n",
       "      <td>0.730</td>\n",
       "      <td>0.000095</td>\n",
       "      <td>1.0</td>\n",
       "      <td>0.0897</td>\n",
       "      <td>-5.934</td>\n",
       "      <td>1.0</td>\n",
       "      <td>False</td>\n",
       "      <td>96</td>\n",
       "      <td>0.0598</td>\n",
       "      <td>171.005</td>\n",
       "      <td>4.0</td>\n",
       "      <td>170</td>\n",
       "      <td>0.334</td>\n",
       "    </tr>\n",
       "    <tr>\n",
       "      <th>3</th>\n",
       "      <td>0.22100</td>\n",
       "      <td>0.700</td>\n",
       "      <td>2.342100</td>\n",
       "      <td>140526.0</td>\n",
       "      <td>0.722</td>\n",
       "      <td>0.000000</td>\n",
       "      <td>7.0</td>\n",
       "      <td>0.2720</td>\n",
       "      <td>-3.558</td>\n",
       "      <td>0.0</td>\n",
       "      <td>True</td>\n",
       "      <td>95</td>\n",
       "      <td>0.0369</td>\n",
       "      <td>90.989</td>\n",
       "      <td>4.0</td>\n",
       "      <td>170</td>\n",
       "      <td>0.756</td>\n",
       "    </tr>\n",
       "    <tr>\n",
       "      <th>4</th>\n",
       "      <td>0.21300</td>\n",
       "      <td>0.662</td>\n",
       "      <td>2.689750</td>\n",
       "      <td>161385.0</td>\n",
       "      <td>0.413</td>\n",
       "      <td>0.000000</td>\n",
       "      <td>0.0</td>\n",
       "      <td>0.1340</td>\n",
       "      <td>-7.357</td>\n",
       "      <td>1.0</td>\n",
       "      <td>True</td>\n",
       "      <td>94</td>\n",
       "      <td>0.0299</td>\n",
       "      <td>93.005</td>\n",
       "      <td>4.0</td>\n",
       "      <td>170</td>\n",
       "      <td>0.467</td>\n",
       "    </tr>\n",
       "  </tbody>\n",
       "</table>\n",
       "</div>"
      ],
      "text/plain": [
       "   acousticness  danceability  duration_min  duration_ms  energy  \\\n",
       "0       0.72100         0.585      4.033567     242014.0   0.436   \n",
       "1       0.02120         0.680      3.593783     215627.0   0.826   \n",
       "2       0.00146         0.514      3.334000     200040.0   0.730   \n",
       "3       0.22100         0.700      2.342100     140526.0   0.722   \n",
       "4       0.21300         0.662      2.689750     161385.0   0.413   \n",
       "\n",
       "   instrumentalness   key  liveness  loudness  mode  song_explicit  \\\n",
       "0          0.000013  10.0    0.1050    -8.761   1.0           True   \n",
       "1          0.000012   0.0    0.5430    -5.487   1.0           True   \n",
       "2          0.000095   1.0    0.0897    -5.934   1.0          False   \n",
       "3          0.000000   7.0    0.2720    -3.558   0.0           True   \n",
       "4          0.000000   0.0    0.1340    -7.357   1.0           True   \n",
       "\n",
       "   song_popularity  speechiness    tempo  time_signature  \\\n",
       "0              100       0.0601  143.874             4.0   \n",
       "1               96       0.0309  118.051             4.0   \n",
       "2               96       0.0598  171.005             4.0   \n",
       "3               95       0.0369   90.989             4.0   \n",
       "4               94       0.0299   93.005             4.0   \n",
       "\n",
       "   total_available_markets  valence  \n",
       "0                      170    0.132  \n",
       "1                      170    0.644  \n",
       "2                      170    0.334  \n",
       "3                      170    0.756  \n",
       "4                      170    0.467  "
      ]
     },
     "execution_count": 16,
     "metadata": {},
     "output_type": "execute_result"
    }
   ],
   "source": [
    "# Coverting 'duration_ms' feature into 'duration_min' i.e from ms into minutes (as it would make more sense)\n",
    "\n",
    "df2['duration_min']=df2['duration_ms']/60000\n",
    "df2 = df2.reindex(sorted(df2.columns), axis=1)\n",
    "df2.head()"
   ]
  },
  {
   "cell_type": "code",
   "execution_count": 17,
   "metadata": {
    "colab": {
     "base_uri": "https://localhost:8080/",
     "height": 206
    },
    "executionInfo": {
     "elapsed": 449,
     "status": "ok",
     "timestamp": 1645383190341,
     "user": {
      "displayName": "Rishabh Puria",
      "photoUrl": "https://lh3.googleusercontent.com/a-/AOh14Ggmltxl3VQ-uv5PMpLuhtPbAWCpE42SvddHRWw=s64",
      "userId": "13441611883412184745"
     },
     "user_tz": -330
    },
    "id": "SqR9MXUQjrHI",
    "outputId": "05aa586c-bf55-42c4-c612-dea78617b3fa"
   },
   "outputs": [
    {
     "data": {
      "text/html": [
       "<div>\n",
       "<style scoped>\n",
       "    .dataframe tbody tr th:only-of-type {\n",
       "        vertical-align: middle;\n",
       "    }\n",
       "\n",
       "    .dataframe tbody tr th {\n",
       "        vertical-align: top;\n",
       "    }\n",
       "\n",
       "    .dataframe thead th {\n",
       "        text-align: right;\n",
       "    }\n",
       "</style>\n",
       "<table border=\"1\" class=\"dataframe\">\n",
       "  <thead>\n",
       "    <tr style=\"text-align: right;\">\n",
       "      <th></th>\n",
       "      <th>acousticness</th>\n",
       "      <th>danceability</th>\n",
       "      <th>duration_min</th>\n",
       "      <th>energy</th>\n",
       "      <th>instrumentalness</th>\n",
       "      <th>key</th>\n",
       "      <th>liveness</th>\n",
       "      <th>loudness</th>\n",
       "      <th>mode</th>\n",
       "      <th>song_explicit</th>\n",
       "      <th>song_popularity</th>\n",
       "      <th>speechiness</th>\n",
       "      <th>tempo</th>\n",
       "      <th>time_signature</th>\n",
       "      <th>total_available_markets</th>\n",
       "      <th>valence</th>\n",
       "    </tr>\n",
       "  </thead>\n",
       "  <tbody>\n",
       "    <tr>\n",
       "      <th>0</th>\n",
       "      <td>0.72100</td>\n",
       "      <td>0.585</td>\n",
       "      <td>4.033567</td>\n",
       "      <td>0.436</td>\n",
       "      <td>0.000013</td>\n",
       "      <td>10.0</td>\n",
       "      <td>0.1050</td>\n",
       "      <td>-8.761</td>\n",
       "      <td>1.0</td>\n",
       "      <td>True</td>\n",
       "      <td>100</td>\n",
       "      <td>0.0601</td>\n",
       "      <td>143.874</td>\n",
       "      <td>4.0</td>\n",
       "      <td>170</td>\n",
       "      <td>0.132</td>\n",
       "    </tr>\n",
       "    <tr>\n",
       "      <th>1</th>\n",
       "      <td>0.02120</td>\n",
       "      <td>0.680</td>\n",
       "      <td>3.593783</td>\n",
       "      <td>0.826</td>\n",
       "      <td>0.000012</td>\n",
       "      <td>0.0</td>\n",
       "      <td>0.5430</td>\n",
       "      <td>-5.487</td>\n",
       "      <td>1.0</td>\n",
       "      <td>True</td>\n",
       "      <td>96</td>\n",
       "      <td>0.0309</td>\n",
       "      <td>118.051</td>\n",
       "      <td>4.0</td>\n",
       "      <td>170</td>\n",
       "      <td>0.644</td>\n",
       "    </tr>\n",
       "    <tr>\n",
       "      <th>2</th>\n",
       "      <td>0.00146</td>\n",
       "      <td>0.514</td>\n",
       "      <td>3.334000</td>\n",
       "      <td>0.730</td>\n",
       "      <td>0.000095</td>\n",
       "      <td>1.0</td>\n",
       "      <td>0.0897</td>\n",
       "      <td>-5.934</td>\n",
       "      <td>1.0</td>\n",
       "      <td>False</td>\n",
       "      <td>96</td>\n",
       "      <td>0.0598</td>\n",
       "      <td>171.005</td>\n",
       "      <td>4.0</td>\n",
       "      <td>170</td>\n",
       "      <td>0.334</td>\n",
       "    </tr>\n",
       "    <tr>\n",
       "      <th>3</th>\n",
       "      <td>0.22100</td>\n",
       "      <td>0.700</td>\n",
       "      <td>2.342100</td>\n",
       "      <td>0.722</td>\n",
       "      <td>0.000000</td>\n",
       "      <td>7.0</td>\n",
       "      <td>0.2720</td>\n",
       "      <td>-3.558</td>\n",
       "      <td>0.0</td>\n",
       "      <td>True</td>\n",
       "      <td>95</td>\n",
       "      <td>0.0369</td>\n",
       "      <td>90.989</td>\n",
       "      <td>4.0</td>\n",
       "      <td>170</td>\n",
       "      <td>0.756</td>\n",
       "    </tr>\n",
       "    <tr>\n",
       "      <th>4</th>\n",
       "      <td>0.21300</td>\n",
       "      <td>0.662</td>\n",
       "      <td>2.689750</td>\n",
       "      <td>0.413</td>\n",
       "      <td>0.000000</td>\n",
       "      <td>0.0</td>\n",
       "      <td>0.1340</td>\n",
       "      <td>-7.357</td>\n",
       "      <td>1.0</td>\n",
       "      <td>True</td>\n",
       "      <td>94</td>\n",
       "      <td>0.0299</td>\n",
       "      <td>93.005</td>\n",
       "      <td>4.0</td>\n",
       "      <td>170</td>\n",
       "      <td>0.467</td>\n",
       "    </tr>\n",
       "  </tbody>\n",
       "</table>\n",
       "</div>"
      ],
      "text/plain": [
       "   acousticness  danceability  duration_min  energy  instrumentalness   key  \\\n",
       "0       0.72100         0.585      4.033567   0.436          0.000013  10.0   \n",
       "1       0.02120         0.680      3.593783   0.826          0.000012   0.0   \n",
       "2       0.00146         0.514      3.334000   0.730          0.000095   1.0   \n",
       "3       0.22100         0.700      2.342100   0.722          0.000000   7.0   \n",
       "4       0.21300         0.662      2.689750   0.413          0.000000   0.0   \n",
       "\n",
       "   liveness  loudness  mode  song_explicit  song_popularity  speechiness  \\\n",
       "0    0.1050    -8.761   1.0           True              100       0.0601   \n",
       "1    0.5430    -5.487   1.0           True               96       0.0309   \n",
       "2    0.0897    -5.934   1.0          False               96       0.0598   \n",
       "3    0.2720    -3.558   0.0           True               95       0.0369   \n",
       "4    0.1340    -7.357   1.0           True               94       0.0299   \n",
       "\n",
       "     tempo  time_signature  total_available_markets  valence  \n",
       "0  143.874             4.0                      170    0.132  \n",
       "1  118.051             4.0                      170    0.644  \n",
       "2  171.005             4.0                      170    0.334  \n",
       "3   90.989             4.0                      170    0.756  \n",
       "4   93.005             4.0                      170    0.467  "
      ]
     },
     "execution_count": 17,
     "metadata": {},
     "output_type": "execute_result"
    }
   ],
   "source": [
    "# Dropping ''duration_ms' - keeping 2 features giving same information may introduce multi-collinearity and could hamper our analysis\n",
    "\n",
    "df2.drop(['duration_ms'], axis = 1, inplace = True)\n",
    "df2.head()"
   ]
  },
  {
   "cell_type": "code",
   "execution_count": 18,
   "metadata": {
    "executionInfo": {
     "elapsed": 525,
     "status": "ok",
     "timestamp": 1645383200810,
     "user": {
      "displayName": "Rishabh Puria",
      "photoUrl": "https://lh3.googleusercontent.com/a-/AOh14Ggmltxl3VQ-uv5PMpLuhtPbAWCpE42SvddHRWw=s64",
      "userId": "13441611883412184745"
     },
     "user_tz": -330
    },
    "id": "mRrhIW6ffFY3"
   },
   "outputs": [],
   "source": [
    "# Converting 'song_explicit'from boolean into numeric form (binary)\n",
    "\n",
    "df2['song_explicit'].replace({False:0,True:1},inplace=True)"
   ]
  },
  {
   "cell_type": "code",
   "execution_count": 19,
   "metadata": {
    "colab": {
     "base_uri": "https://localhost:8080/",
     "height": 364
    },
    "executionInfo": {
     "elapsed": 1121,
     "status": "ok",
     "timestamp": 1645383204291,
     "user": {
      "displayName": "Rishabh Puria",
      "photoUrl": "https://lh3.googleusercontent.com/a-/AOh14Ggmltxl3VQ-uv5PMpLuhtPbAWCpE42SvddHRWw=s64",
      "userId": "13441611883412184745"
     },
     "user_tz": -330
    },
    "id": "1NIAsn5njrM-",
    "outputId": "8186d110-2e24-4e16-e180-e9ee19412344"
   },
   "outputs": [
    {
     "data": {
      "text/html": [
       "<div>\n",
       "<style scoped>\n",
       "    .dataframe tbody tr th:only-of-type {\n",
       "        vertical-align: middle;\n",
       "    }\n",
       "\n",
       "    .dataframe tbody tr th {\n",
       "        vertical-align: top;\n",
       "    }\n",
       "\n",
       "    .dataframe thead th {\n",
       "        text-align: right;\n",
       "    }\n",
       "</style>\n",
       "<table border=\"1\" class=\"dataframe\">\n",
       "  <thead>\n",
       "    <tr style=\"text-align: right;\">\n",
       "      <th></th>\n",
       "      <th>acousticness</th>\n",
       "      <th>danceability</th>\n",
       "      <th>duration_min</th>\n",
       "      <th>energy</th>\n",
       "      <th>instrumentalness</th>\n",
       "      <th>key</th>\n",
       "      <th>liveness</th>\n",
       "      <th>loudness</th>\n",
       "      <th>mode</th>\n",
       "      <th>song_explicit</th>\n",
       "      <th>song_popularity</th>\n",
       "      <th>speechiness</th>\n",
       "      <th>tempo</th>\n",
       "      <th>time_signature</th>\n",
       "      <th>total_available_markets</th>\n",
       "      <th>valence</th>\n",
       "    </tr>\n",
       "  </thead>\n",
       "  <tbody>\n",
       "    <tr>\n",
       "      <th>count</th>\n",
       "      <td>439893.000000</td>\n",
       "      <td>439893.000000</td>\n",
       "      <td>439893.000000</td>\n",
       "      <td>439893.000000</td>\n",
       "      <td>439893.000000</td>\n",
       "      <td>439893.000000</td>\n",
       "      <td>439893.000000</td>\n",
       "      <td>439893.000000</td>\n",
       "      <td>439893.000000</td>\n",
       "      <td>439893.000000</td>\n",
       "      <td>439893.000000</td>\n",
       "      <td>439893.000000</td>\n",
       "      <td>439893.000000</td>\n",
       "      <td>439893.000000</td>\n",
       "      <td>439893.000000</td>\n",
       "      <td>439893.000000</td>\n",
       "    </tr>\n",
       "    <tr>\n",
       "      <th>mean</th>\n",
       "      <td>0.332647</td>\n",
       "      <td>0.616870</td>\n",
       "      <td>3.556475</td>\n",
       "      <td>0.584848</td>\n",
       "      <td>0.188697</td>\n",
       "      <td>5.288957</td>\n",
       "      <td>0.209445</td>\n",
       "      <td>-9.960702</td>\n",
       "      <td>0.574342</td>\n",
       "      <td>0.211360</td>\n",
       "      <td>22.809390</td>\n",
       "      <td>0.191600</td>\n",
       "      <td>119.238750</td>\n",
       "      <td>3.878545</td>\n",
       "      <td>160.520076</td>\n",
       "      <td>0.475361</td>\n",
       "    </tr>\n",
       "    <tr>\n",
       "      <th>std</th>\n",
       "      <td>0.320389</td>\n",
       "      <td>0.178007</td>\n",
       "      <td>2.066553</td>\n",
       "      <td>0.249089</td>\n",
       "      <td>0.338787</td>\n",
       "      <td>3.606797</td>\n",
       "      <td>0.179297</td>\n",
       "      <td>5.897513</td>\n",
       "      <td>0.494443</td>\n",
       "      <td>0.408274</td>\n",
       "      <td>18.518437</td>\n",
       "      <td>0.252524</td>\n",
       "      <td>30.200554</td>\n",
       "      <td>0.546340</td>\n",
       "      <td>33.688941</td>\n",
       "      <td>0.253360</td>\n",
       "    </tr>\n",
       "    <tr>\n",
       "      <th>min</th>\n",
       "      <td>0.000000</td>\n",
       "      <td>0.000000</td>\n",
       "      <td>0.031067</td>\n",
       "      <td>0.000000</td>\n",
       "      <td>0.000000</td>\n",
       "      <td>0.000000</td>\n",
       "      <td>0.000000</td>\n",
       "      <td>-60.000000</td>\n",
       "      <td>0.000000</td>\n",
       "      <td>0.000000</td>\n",
       "      <td>0.000000</td>\n",
       "      <td>0.000000</td>\n",
       "      <td>0.000000</td>\n",
       "      <td>0.000000</td>\n",
       "      <td>0.000000</td>\n",
       "      <td>0.000000</td>\n",
       "    </tr>\n",
       "    <tr>\n",
       "      <th>25%</th>\n",
       "      <td>0.039700</td>\n",
       "      <td>0.515000</td>\n",
       "      <td>2.566667</td>\n",
       "      <td>0.412000</td>\n",
       "      <td>0.000000</td>\n",
       "      <td>2.000000</td>\n",
       "      <td>0.098900</td>\n",
       "      <td>-12.383000</td>\n",
       "      <td>0.000000</td>\n",
       "      <td>0.000000</td>\n",
       "      <td>7.000000</td>\n",
       "      <td>0.042000</td>\n",
       "      <td>95.146000</td>\n",
       "      <td>4.000000</td>\n",
       "      <td>169.000000</td>\n",
       "      <td>0.275000</td>\n",
       "    </tr>\n",
       "    <tr>\n",
       "      <th>50%</th>\n",
       "      <td>0.224000</td>\n",
       "      <td>0.647000</td>\n",
       "      <td>3.323083</td>\n",
       "      <td>0.610000</td>\n",
       "      <td>0.000021</td>\n",
       "      <td>5.000000</td>\n",
       "      <td>0.131000</td>\n",
       "      <td>-8.409000</td>\n",
       "      <td>1.000000</td>\n",
       "      <td>0.000000</td>\n",
       "      <td>20.000000</td>\n",
       "      <td>0.071600</td>\n",
       "      <td>120.006000</td>\n",
       "      <td>4.000000</td>\n",
       "      <td>170.000000</td>\n",
       "      <td>0.472000</td>\n",
       "    </tr>\n",
       "    <tr>\n",
       "      <th>75%</th>\n",
       "      <td>0.587000</td>\n",
       "      <td>0.743000</td>\n",
       "      <td>4.122000</td>\n",
       "      <td>0.786000</td>\n",
       "      <td>0.148000</td>\n",
       "      <td>8.000000</td>\n",
       "      <td>0.272000</td>\n",
       "      <td>-5.949000</td>\n",
       "      <td>1.000000</td>\n",
       "      <td>0.000000</td>\n",
       "      <td>36.000000</td>\n",
       "      <td>0.232000</td>\n",
       "      <td>139.009000</td>\n",
       "      <td>4.000000</td>\n",
       "      <td>170.000000</td>\n",
       "      <td>0.673000</td>\n",
       "    </tr>\n",
       "    <tr>\n",
       "      <th>max</th>\n",
       "      <td>0.996000</td>\n",
       "      <td>0.994000</td>\n",
       "      <td>100.410783</td>\n",
       "      <td>1.000000</td>\n",
       "      <td>1.000000</td>\n",
       "      <td>11.000000</td>\n",
       "      <td>1.000000</td>\n",
       "      <td>5.285000</td>\n",
       "      <td>1.000000</td>\n",
       "      <td>1.000000</td>\n",
       "      <td>100.000000</td>\n",
       "      <td>0.972000</td>\n",
       "      <td>249.810000</td>\n",
       "      <td>5.000000</td>\n",
       "      <td>170.000000</td>\n",
       "      <td>1.000000</td>\n",
       "    </tr>\n",
       "  </tbody>\n",
       "</table>\n",
       "</div>"
      ],
      "text/plain": [
       "        acousticness   danceability   duration_min         energy  \\\n",
       "count  439893.000000  439893.000000  439893.000000  439893.000000   \n",
       "mean        0.332647       0.616870       3.556475       0.584848   \n",
       "std         0.320389       0.178007       2.066553       0.249089   \n",
       "min         0.000000       0.000000       0.031067       0.000000   \n",
       "25%         0.039700       0.515000       2.566667       0.412000   \n",
       "50%         0.224000       0.647000       3.323083       0.610000   \n",
       "75%         0.587000       0.743000       4.122000       0.786000   \n",
       "max         0.996000       0.994000     100.410783       1.000000   \n",
       "\n",
       "       instrumentalness            key       liveness       loudness  \\\n",
       "count     439893.000000  439893.000000  439893.000000  439893.000000   \n",
       "mean           0.188697       5.288957       0.209445      -9.960702   \n",
       "std            0.338787       3.606797       0.179297       5.897513   \n",
       "min            0.000000       0.000000       0.000000     -60.000000   \n",
       "25%            0.000000       2.000000       0.098900     -12.383000   \n",
       "50%            0.000021       5.000000       0.131000      -8.409000   \n",
       "75%            0.148000       8.000000       0.272000      -5.949000   \n",
       "max            1.000000      11.000000       1.000000       5.285000   \n",
       "\n",
       "                mode  song_explicit  song_popularity    speechiness  \\\n",
       "count  439893.000000  439893.000000    439893.000000  439893.000000   \n",
       "mean        0.574342       0.211360        22.809390       0.191600   \n",
       "std         0.494443       0.408274        18.518437       0.252524   \n",
       "min         0.000000       0.000000         0.000000       0.000000   \n",
       "25%         0.000000       0.000000         7.000000       0.042000   \n",
       "50%         1.000000       0.000000        20.000000       0.071600   \n",
       "75%         1.000000       0.000000        36.000000       0.232000   \n",
       "max         1.000000       1.000000       100.000000       0.972000   \n",
       "\n",
       "               tempo  time_signature  total_available_markets        valence  \n",
       "count  439893.000000   439893.000000            439893.000000  439893.000000  \n",
       "mean      119.238750        3.878545               160.520076       0.475361  \n",
       "std        30.200554        0.546340                33.688941       0.253360  \n",
       "min         0.000000        0.000000                 0.000000       0.000000  \n",
       "25%        95.146000        4.000000               169.000000       0.275000  \n",
       "50%       120.006000        4.000000               170.000000       0.472000  \n",
       "75%       139.009000        4.000000               170.000000       0.673000  \n",
       "max       249.810000        5.000000               170.000000       1.000000  "
      ]
     },
     "execution_count": 19,
     "metadata": {},
     "output_type": "execute_result"
    }
   ],
   "source": [
    "df2.describe() # Performing some descriptive statisics on our udated DataFrame "
   ]
  },
  {
   "cell_type": "code",
   "execution_count": 20,
   "metadata": {
    "colab": {
     "base_uri": "https://localhost:8080/"
    },
    "executionInfo": {
     "elapsed": 8,
     "status": "ok",
     "timestamp": 1645383209874,
     "user": {
      "displayName": "Rishabh Puria",
      "photoUrl": "https://lh3.googleusercontent.com/a-/AOh14Ggmltxl3VQ-uv5PMpLuhtPbAWCpE42SvddHRWw=s64",
      "userId": "13441611883412184745"
     },
     "user_tz": -330
    },
    "id": "YKWHEM4EfFgG",
    "outputId": "94f07f93-d54c-455b-e411-4e6012ea2f68"
   },
   "outputs": [
    {
     "data": {
      "text/plain": [
       "(439893, 16)"
      ]
     },
     "execution_count": 20,
     "metadata": {},
     "output_type": "execute_result"
    }
   ],
   "source": [
    "df2.shape # No. of features are reduced after dropping few"
   ]
  },
  {
   "cell_type": "markdown",
   "metadata": {
    "id": "yiENKfa_qaqi"
   },
   "source": [
    "# Performing some Visual Analysis to see how our Data actually appears"
   ]
  },
  {
   "cell_type": "code",
   "execution_count": 21,
   "metadata": {
    "colab": {
     "base_uri": "https://localhost:8080/",
     "height": 386
    },
    "executionInfo": {
     "elapsed": 3917,
     "status": "ok",
     "timestamp": 1645383216847,
     "user": {
      "displayName": "Rishabh Puria",
      "photoUrl": "https://lh3.googleusercontent.com/a-/AOh14Ggmltxl3VQ-uv5PMpLuhtPbAWCpE42SvddHRWw=s64",
      "userId": "13441611883412184745"
     },
     "user_tz": -330
    },
    "id": "JKEdrGx_fFpT",
    "outputId": "1da1253a-093c-4c4e-b77f-4907f9b183ec"
   },
   "outputs": [
    {
     "data": {
      "text/plain": [
       "<seaborn.axisgrid.FacetGrid at 0x1a8032d6100>"
      ]
     },
     "execution_count": 21,
     "metadata": {},
     "output_type": "execute_result"
    },
    {
     "data": {
      "image/png": "[encoded data removed]",
      "text/plain": [
       "<Figure size 360x360 with 1 Axes>"
      ]
     },
     "metadata": {
      "needs_background": "light"
     },
     "output_type": "display_data"
    }
   ],
   "source": [
    "sns.displot(df2, x = 'song_popularity', kind = 'kde') # Population Distribution of our Target Variable shows most of the density of Data Points lies to the lower side."
   ]
  },
  {
   "cell_type": "code",
   "execution_count": 22,
   "metadata": {
    "colab": {
     "base_uri": "https://localhost:8080/",
     "height": 616
    },
    "executionInfo": {
     "elapsed": 1060,
     "status": "ok",
     "timestamp": 1645383223937,
     "user": {
      "displayName": "Rishabh Puria",
      "photoUrl": "https://lh3.googleusercontent.com/a-/AOh14Ggmltxl3VQ-uv5PMpLuhtPbAWCpE42SvddHRWw=s64",
      "userId": "13441611883412184745"
     },
     "user_tz": -330
    },
    "id": "BtgWwDjNqwdi",
    "outputId": "7150dad2-a7bb-422a-c7a3-f3aef2050f29"
   },
   "outputs": [
    {
     "data": {
      "text/html": [
       "<div>\n",
       "<style scoped>\n",
       "    .dataframe tbody tr th:only-of-type {\n",
       "        vertical-align: middle;\n",
       "    }\n",
       "\n",
       "    .dataframe tbody tr th {\n",
       "        vertical-align: top;\n",
       "    }\n",
       "\n",
       "    .dataframe thead th {\n",
       "        text-align: right;\n",
       "    }\n",
       "</style>\n",
       "<table border=\"1\" class=\"dataframe\">\n",
       "  <thead>\n",
       "    <tr style=\"text-align: right;\">\n",
       "      <th></th>\n",
       "      <th>acousticness</th>\n",
       "      <th>danceability</th>\n",
       "      <th>duration_min</th>\n",
       "      <th>energy</th>\n",
       "      <th>instrumentalness</th>\n",
       "      <th>key</th>\n",
       "      <th>liveness</th>\n",
       "      <th>loudness</th>\n",
       "      <th>mode</th>\n",
       "      <th>song_explicit</th>\n",
       "      <th>song_popularity</th>\n",
       "      <th>speechiness</th>\n",
       "      <th>tempo</th>\n",
       "      <th>time_signature</th>\n",
       "      <th>total_available_markets</th>\n",
       "      <th>valence</th>\n",
       "    </tr>\n",
       "  </thead>\n",
       "  <tbody>\n",
       "    <tr>\n",
       "      <th>acousticness</th>\n",
       "      <td>1.000000</td>\n",
       "      <td>-0.284110</td>\n",
       "      <td>-0.065813</td>\n",
       "      <td>-0.637152</td>\n",
       "      <td>0.138082</td>\n",
       "      <td>-0.023441</td>\n",
       "      <td>-0.004675</td>\n",
       "      <td>-0.526285</td>\n",
       "      <td>0.038303</td>\n",
       "      <td>-0.160475</td>\n",
       "      <td>-0.067072</td>\n",
       "      <td>0.120617</td>\n",
       "      <td>-0.198493</td>\n",
       "      <td>-0.159032</td>\n",
       "      <td>-0.074791</td>\n",
       "      <td>-0.124760</td>\n",
       "    </tr>\n",
       "    <tr>\n",
       "      <th>danceability</th>\n",
       "      <td>-0.284110</td>\n",
       "      <td>1.000000</td>\n",
       "      <td>-0.114180</td>\n",
       "      <td>0.176870</td>\n",
       "      <td>-0.242311</td>\n",
       "      <td>0.022330</td>\n",
       "      <td>-0.121002</td>\n",
       "      <td>0.277236</td>\n",
       "      <td>-0.048211</td>\n",
       "      <td>0.255947</td>\n",
       "      <td>0.018864</td>\n",
       "      <td>0.197709</td>\n",
       "      <td>0.023292</td>\n",
       "      <td>0.167650</td>\n",
       "      <td>0.029939</td>\n",
       "      <td>0.412118</td>\n",
       "    </tr>\n",
       "    <tr>\n",
       "      <th>duration_min</th>\n",
       "      <td>-0.065813</td>\n",
       "      <td>-0.114180</td>\n",
       "      <td>1.000000</td>\n",
       "      <td>0.079004</td>\n",
       "      <td>0.090461</td>\n",
       "      <td>0.008930</td>\n",
       "      <td>-0.034779</td>\n",
       "      <td>0.069347</td>\n",
       "      <td>-0.014085</td>\n",
       "      <td>-0.100772</td>\n",
       "      <td>-0.030250</td>\n",
       "      <td>-0.187665</td>\n",
       "      <td>0.038249</td>\n",
       "      <td>0.045461</td>\n",
       "      <td>0.055012</td>\n",
       "      <td>-0.102922</td>\n",
       "    </tr>\n",
       "    <tr>\n",
       "      <th>energy</th>\n",
       "      <td>-0.637152</td>\n",
       "      <td>0.176870</td>\n",
       "      <td>0.079004</td>\n",
       "      <td>1.000000</td>\n",
       "      <td>-0.210131</td>\n",
       "      <td>0.036098</td>\n",
       "      <td>0.157845</td>\n",
       "      <td>0.775302</td>\n",
       "      <td>-0.045689</td>\n",
       "      <td>0.081744</td>\n",
       "      <td>0.084917</td>\n",
       "      <td>-0.155518</td>\n",
       "      <td>0.204518</td>\n",
       "      <td>0.166575</td>\n",
       "      <td>0.003388</td>\n",
       "      <td>0.294320</td>\n",
       "    </tr>\n",
       "    <tr>\n",
       "      <th>instrumentalness</th>\n",
       "      <td>0.138082</td>\n",
       "      <td>-0.242311</td>\n",
       "      <td>0.090461</td>\n",
       "      <td>-0.210131</td>\n",
       "      <td>1.000000</td>\n",
       "      <td>-0.008506</td>\n",
       "      <td>-0.115190</td>\n",
       "      <td>-0.375424</td>\n",
       "      <td>0.008847</td>\n",
       "      <td>-0.241757</td>\n",
       "      <td>-0.095371</td>\n",
       "      <td>-0.263045</td>\n",
       "      <td>-0.010087</td>\n",
       "      <td>-0.038664</td>\n",
       "      <td>0.064902</td>\n",
       "      <td>-0.277828</td>\n",
       "    </tr>\n",
       "    <tr>\n",
       "      <th>key</th>\n",
       "      <td>-0.023441</td>\n",
       "      <td>0.022330</td>\n",
       "      <td>0.008930</td>\n",
       "      <td>0.036098</td>\n",
       "      <td>-0.008506</td>\n",
       "      <td>1.000000</td>\n",
       "      <td>0.000377</td>\n",
       "      <td>0.024013</td>\n",
       "      <td>-0.198225</td>\n",
       "      <td>0.000885</td>\n",
       "      <td>-0.002019</td>\n",
       "      <td>0.008943</td>\n",
       "      <td>0.003756</td>\n",
       "      <td>0.009520</td>\n",
       "      <td>0.013275</td>\n",
       "      <td>0.031985</td>\n",
       "    </tr>\n",
       "    <tr>\n",
       "      <th>liveness</th>\n",
       "      <td>-0.004675</td>\n",
       "      <td>-0.121002</td>\n",
       "      <td>-0.034779</td>\n",
       "      <td>0.157845</td>\n",
       "      <td>-0.115190</td>\n",
       "      <td>0.000377</td>\n",
       "      <td>1.000000</td>\n",
       "      <td>0.031625</td>\n",
       "      <td>0.032413</td>\n",
       "      <td>-0.063836</td>\n",
       "      <td>-0.023016</td>\n",
       "      <td>0.230518</td>\n",
       "      <td>-0.044262</td>\n",
       "      <td>-0.051000</td>\n",
       "      <td>-0.146960</td>\n",
       "      <td>0.047408</td>\n",
       "    </tr>\n",
       "    <tr>\n",
       "      <th>loudness</th>\n",
       "      <td>-0.526285</td>\n",
       "      <td>0.277236</td>\n",
       "      <td>0.069347</td>\n",
       "      <td>0.775302</td>\n",
       "      <td>-0.375424</td>\n",
       "      <td>0.024013</td>\n",
       "      <td>0.031625</td>\n",
       "      <td>1.000000</td>\n",
       "      <td>-0.041974</td>\n",
       "      <td>0.153895</td>\n",
       "      <td>0.147129</td>\n",
       "      <td>-0.208774</td>\n",
       "      <td>0.187253</td>\n",
       "      <td>0.179725</td>\n",
       "      <td>0.032418</td>\n",
       "      <td>0.277513</td>\n",
       "    </tr>\n",
       "    <tr>\n",
       "      <th>mode</th>\n",
       "      <td>0.038303</td>\n",
       "      <td>-0.048211</td>\n",
       "      <td>-0.014085</td>\n",
       "      <td>-0.045689</td>\n",
       "      <td>0.008847</td>\n",
       "      <td>-0.198225</td>\n",
       "      <td>0.032413</td>\n",
       "      <td>-0.041974</td>\n",
       "      <td>1.000000</td>\n",
       "      <td>-0.036937</td>\n",
       "      <td>-0.014937</td>\n",
       "      <td>0.023430</td>\n",
       "      <td>-0.009226</td>\n",
       "      <td>-0.030452</td>\n",
       "      <td>-0.035965</td>\n",
       "      <td>-0.001425</td>\n",
       "    </tr>\n",
       "    <tr>\n",
       "      <th>song_explicit</th>\n",
       "      <td>-0.160475</td>\n",
       "      <td>0.255947</td>\n",
       "      <td>-0.100772</td>\n",
       "      <td>0.081744</td>\n",
       "      <td>-0.241757</td>\n",
       "      <td>0.000885</td>\n",
       "      <td>-0.063836</td>\n",
       "      <td>0.153895</td>\n",
       "      <td>-0.036937</td>\n",
       "      <td>1.000000</td>\n",
       "      <td>0.013380</td>\n",
       "      <td>0.081637</td>\n",
       "      <td>0.036244</td>\n",
       "      <td>0.093501</td>\n",
       "      <td>0.098528</td>\n",
       "      <td>-0.001238</td>\n",
       "    </tr>\n",
       "    <tr>\n",
       "      <th>song_popularity</th>\n",
       "      <td>-0.067072</td>\n",
       "      <td>0.018864</td>\n",
       "      <td>-0.030250</td>\n",
       "      <td>0.084917</td>\n",
       "      <td>-0.095371</td>\n",
       "      <td>-0.002019</td>\n",
       "      <td>-0.023016</td>\n",
       "      <td>0.147129</td>\n",
       "      <td>-0.014937</td>\n",
       "      <td>0.013380</td>\n",
       "      <td>1.000000</td>\n",
       "      <td>-0.133875</td>\n",
       "      <td>0.005064</td>\n",
       "      <td>0.051764</td>\n",
       "      <td>-0.015552</td>\n",
       "      <td>-0.000555</td>\n",
       "    </tr>\n",
       "    <tr>\n",
       "      <th>speechiness</th>\n",
       "      <td>0.120617</td>\n",
       "      <td>0.197709</td>\n",
       "      <td>-0.187665</td>\n",
       "      <td>-0.155518</td>\n",
       "      <td>-0.263045</td>\n",
       "      <td>0.008943</td>\n",
       "      <td>0.230518</td>\n",
       "      <td>-0.208774</td>\n",
       "      <td>0.023430</td>\n",
       "      <td>0.081637</td>\n",
       "      <td>-0.133875</td>\n",
       "      <td>1.000000</td>\n",
       "      <td>-0.110511</td>\n",
       "      <td>-0.134292</td>\n",
       "      <td>-0.192333</td>\n",
       "      <td>0.113289</td>\n",
       "    </tr>\n",
       "    <tr>\n",
       "      <th>tempo</th>\n",
       "      <td>-0.198493</td>\n",
       "      <td>0.023292</td>\n",
       "      <td>0.038249</td>\n",
       "      <td>0.204518</td>\n",
       "      <td>-0.010087</td>\n",
       "      <td>0.003756</td>\n",
       "      <td>-0.044262</td>\n",
       "      <td>0.187253</td>\n",
       "      <td>-0.009226</td>\n",
       "      <td>0.036244</td>\n",
       "      <td>0.005064</td>\n",
       "      <td>-0.110511</td>\n",
       "      <td>1.000000</td>\n",
       "      <td>0.098635</td>\n",
       "      <td>0.063360</td>\n",
       "      <td>0.065988</td>\n",
       "    </tr>\n",
       "    <tr>\n",
       "      <th>time_signature</th>\n",
       "      <td>-0.159032</td>\n",
       "      <td>0.167650</td>\n",
       "      <td>0.045461</td>\n",
       "      <td>0.166575</td>\n",
       "      <td>-0.038664</td>\n",
       "      <td>0.009520</td>\n",
       "      <td>-0.051000</td>\n",
       "      <td>0.179725</td>\n",
       "      <td>-0.030452</td>\n",
       "      <td>0.093501</td>\n",
       "      <td>0.051764</td>\n",
       "      <td>-0.134292</td>\n",
       "      <td>0.098635</td>\n",
       "      <td>1.000000</td>\n",
       "      <td>0.051813</td>\n",
       "      <td>0.062940</td>\n",
       "    </tr>\n",
       "    <tr>\n",
       "      <th>total_available_markets</th>\n",
       "      <td>-0.074791</td>\n",
       "      <td>0.029939</td>\n",
       "      <td>0.055012</td>\n",
       "      <td>0.003388</td>\n",
       "      <td>0.064902</td>\n",
       "      <td>0.013275</td>\n",
       "      <td>-0.146960</td>\n",
       "      <td>0.032418</td>\n",
       "      <td>-0.035965</td>\n",
       "      <td>0.098528</td>\n",
       "      <td>-0.015552</td>\n",
       "      <td>-0.192333</td>\n",
       "      <td>0.063360</td>\n",
       "      <td>0.051813</td>\n",
       "      <td>1.000000</td>\n",
       "      <td>-0.060946</td>\n",
       "    </tr>\n",
       "    <tr>\n",
       "      <th>valence</th>\n",
       "      <td>-0.124760</td>\n",
       "      <td>0.412118</td>\n",
       "      <td>-0.102922</td>\n",
       "      <td>0.294320</td>\n",
       "      <td>-0.277828</td>\n",
       "      <td>0.031985</td>\n",
       "      <td>0.047408</td>\n",
       "      <td>0.277513</td>\n",
       "      <td>-0.001425</td>\n",
       "      <td>-0.001238</td>\n",
       "      <td>-0.000555</td>\n",
       "      <td>0.113289</td>\n",
       "      <td>0.065988</td>\n",
       "      <td>0.062940</td>\n",
       "      <td>-0.060946</td>\n",
       "      <td>1.000000</td>\n",
       "    </tr>\n",
       "  </tbody>\n",
       "</table>\n",
       "</div>"
      ],
      "text/plain": [
       "                         acousticness  danceability  duration_min    energy  \\\n",
       "acousticness                 1.000000     -0.284110     -0.065813 -0.637152   \n",
       "danceability                -0.284110      1.000000     -0.114180  0.176870   \n",
       "duration_min                -0.065813     -0.114180      1.000000  0.079004   \n",
       "energy                      -0.637152      0.176870      0.079004  1.000000   \n",
       "instrumentalness             0.138082     -0.242311      0.090461 -0.210131   \n",
       "key                         -0.023441      0.022330      0.008930  0.036098   \n",
       "liveness                    -0.004675     -0.121002     -0.034779  0.157845   \n",
       "loudness                    -0.526285      0.277236      0.069347  0.775302   \n",
       "mode                         0.038303     -0.048211     -0.014085 -0.045689   \n",
       "song_explicit               -0.160475      0.255947     -0.100772  0.081744   \n",
       "song_popularity             -0.067072      0.018864     -0.030250  0.084917   \n",
       "speechiness                  0.120617      0.197709     -0.187665 -0.155518   \n",
       "tempo                       -0.198493      0.023292      0.038249  0.204518   \n",
       "time_signature              -0.159032      0.167650      0.045461  0.166575   \n",
       "total_available_markets     -0.074791      0.029939      0.055012  0.003388   \n",
       "valence                     -0.124760      0.412118     -0.102922  0.294320   \n",
       "\n",
       "                         instrumentalness       key  liveness  loudness  \\\n",
       "acousticness                     0.138082 -0.023441 -0.004675 -0.526285   \n",
       "danceability                    -0.242311  0.022330 -0.121002  0.277236   \n",
       "duration_min                     0.090461  0.008930 -0.034779  0.069347   \n",
       "energy                          -0.210131  0.036098  0.157845  0.775302   \n",
       "instrumentalness                 1.000000 -0.008506 -0.115190 -0.375424   \n",
       "key                             -0.008506  1.000000  0.000377  0.024013   \n",
       "liveness                        -0.115190  0.000377  1.000000  0.031625   \n",
       "loudness                        -0.375424  0.024013  0.031625  1.000000   \n",
       "mode                             0.008847 -0.198225  0.032413 -0.041974   \n",
       "song_explicit                   -0.241757  0.000885 -0.063836  0.153895   \n",
       "song_popularity                 -0.095371 -0.002019 -0.023016  0.147129   \n",
       "speechiness                     -0.263045  0.008943  0.230518 -0.208774   \n",
       "tempo                           -0.010087  0.003756 -0.044262  0.187253   \n",
       "time_signature                  -0.038664  0.009520 -0.051000  0.179725   \n",
       "total_available_markets          0.064902  0.013275 -0.146960  0.032418   \n",
       "valence                         -0.277828  0.031985  0.047408  0.277513   \n",
       "\n",
       "                             mode  song_explicit  song_popularity  \\\n",
       "acousticness             0.038303      -0.160475        -0.067072   \n",
       "danceability            -0.048211       0.255947         0.018864   \n",
       "duration_min            -0.014085      -0.100772        -0.030250   \n",
       "energy                  -0.045689       0.081744         0.084917   \n",
       "instrumentalness         0.008847      -0.241757        -0.095371   \n",
       "key                     -0.198225       0.000885        -0.002019   \n",
       "liveness                 0.032413      -0.063836        -0.023016   \n",
       "loudness                -0.041974       0.153895         0.147129   \n",
       "mode                     1.000000      -0.036937        -0.014937   \n",
       "song_explicit           -0.036937       1.000000         0.013380   \n",
       "song_popularity         -0.014937       0.013380         1.000000   \n",
       "speechiness              0.023430       0.081637        -0.133875   \n",
       "tempo                   -0.009226       0.036244         0.005064   \n",
       "time_signature          -0.030452       0.093501         0.051764   \n",
       "total_available_markets -0.035965       0.098528        -0.015552   \n",
       "valence                 -0.001425      -0.001238        -0.000555   \n",
       "\n",
       "                         speechiness     tempo  time_signature  \\\n",
       "acousticness                0.120617 -0.198493       -0.159032   \n",
       "danceability                0.197709  0.023292        0.167650   \n",
       "duration_min               -0.187665  0.038249        0.045461   \n",
       "energy                     -0.155518  0.204518        0.166575   \n",
       "instrumentalness           -0.263045 -0.010087       -0.038664   \n",
       "key                         0.008943  0.003756        0.009520   \n",
       "liveness                    0.230518 -0.044262       -0.051000   \n",
       "loudness                   -0.208774  0.187253        0.179725   \n",
       "mode                        0.023430 -0.009226       -0.030452   \n",
       "song_explicit               0.081637  0.036244        0.093501   \n",
       "song_popularity            -0.133875  0.005064        0.051764   \n",
       "speechiness                 1.000000 -0.110511       -0.134292   \n",
       "tempo                      -0.110511  1.000000        0.098635   \n",
       "time_signature             -0.134292  0.098635        1.000000   \n",
       "total_available_markets    -0.192333  0.063360        0.051813   \n",
       "valence                     0.113289  0.065988        0.062940   \n",
       "\n",
       "                         total_available_markets   valence  \n",
       "acousticness                           -0.074791 -0.124760  \n",
       "danceability                            0.029939  0.412118  \n",
       "duration_min                            0.055012 -0.102922  \n",
       "energy                                  0.003388  0.294320  \n",
       "instrumentalness                        0.064902 -0.277828  \n",
       "key                                     0.013275  0.031985  \n",
       "liveness                               -0.146960  0.047408  \n",
       "loudness                                0.032418  0.277513  \n",
       "mode                                   -0.035965 -0.001425  \n",
       "song_explicit                           0.098528 -0.001238  \n",
       "song_popularity                        -0.015552 -0.000555  \n",
       "speechiness                            -0.192333  0.113289  \n",
       "tempo                                   0.063360  0.065988  \n",
       "time_signature                          0.051813  0.062940  \n",
       "total_available_markets                 1.000000 -0.060946  \n",
       "valence                                -0.060946  1.000000  "
      ]
     },
     "execution_count": 22,
     "metadata": {},
     "output_type": "execute_result"
    }
   ],
   "source": [
    "df2.corr() # Looking to find any co-relations between different features"
   ]
  },
  {
   "cell_type": "code",
   "execution_count": 23,
   "metadata": {
    "colab": {
     "base_uri": "https://localhost:8080/",
     "height": 721
    },
    "executionInfo": {
     "elapsed": 1596,
     "status": "ok",
     "timestamp": 1645383232382,
     "user": {
      "displayName": "Rishabh Puria",
      "photoUrl": "https://lh3.googleusercontent.com/a-/AOh14Ggmltxl3VQ-uv5PMpLuhtPbAWCpE42SvddHRWw=s64",
      "userId": "13441611883412184745"
     },
     "user_tz": -330
    },
    "id": "iGSLdAzY7MBM",
    "outputId": "90b72ac2-e236-483a-d8bb-4a3f36926584"
   },
   "outputs": [
    {
     "data": {
      "text/plain": [
       "<AxesSubplot:>"
      ]
     },
     "execution_count": 23,
     "metadata": {},
     "output_type": "execute_result"
    },
    {
     "data": {
      "image/png": "[encoded data removed]",
      "text/plain": [
       "<Figure size 1800x720 with 2 Axes>"
      ]
     },
     "metadata": {
      "needs_background": "light"
     },
     "output_type": "display_data"
    }
   ],
   "source": [
    "# Looking to find any co-relations between different features using Heat Map as our Visual Aid\n",
    "\n",
    "plt.figure(figsize=(25,10))\n",
    "sns.heatmap(df2.corr(),center = 0)"
   ]
  },
  {
   "cell_type": "code",
   "execution_count": 24,
   "metadata": {
    "colab": {
     "base_uri": "https://localhost:8080/",
     "height": 606
    },
    "executionInfo": {
     "elapsed": 3886,
     "status": "ok",
     "timestamp": 1645383248899,
     "user": {
      "displayName": "Rishabh Puria",
      "photoUrl": "https://lh3.googleusercontent.com/a-/AOh14Ggmltxl3VQ-uv5PMpLuhtPbAWCpE42SvddHRWw=s64",
      "userId": "13441611883412184745"
     },
     "user_tz": -330
    },
    "id": "wsJMRTZ98X-Q",
    "outputId": "fd4e5c6b-350f-4e9c-8389-84d071e67eac"
   },
   "outputs": [
    {
     "data": {
      "image/png": "[encoded data removed]",
      "text/plain": [
       "<Figure size 1440x720 with 16 Axes>"
      ]
     },
     "metadata": {
      "needs_background": "light"
     },
     "output_type": "display_data"
    }
   ],
   "source": [
    "# Creating Boxplots to gaze into outliers (if any)\n",
    "\n",
    "plt.figure(figsize = (20,10))\n",
    "\n",
    "for i in range(len(df2.columns)):\n",
    "  plt.subplot(4,4, i+1)\n",
    "  sns.boxplot(df2[df2.columns[i]])\n",
    "\n",
    "plt.show()"
   ]
  },
  {
   "cell_type": "code",
   "execution_count": 25,
   "metadata": {
    "executionInfo": {
     "elapsed": 386,
     "status": "ok",
     "timestamp": 1645383278568,
     "user": {
      "displayName": "Rishabh Puria",
      "photoUrl": "https://lh3.googleusercontent.com/a-/AOh14Ggmltxl3VQ-uv5PMpLuhtPbAWCpE42SvddHRWw=s64",
      "userId": "13441611883412184745"
     },
     "user_tz": -330
    },
    "id": "SjiNXZeEBJKT"
   },
   "outputs": [],
   "source": [
    "# Function for getting outliers\n",
    "\n",
    "def get_outlier_counts_recordwise(df2, threshold):\n",
    "  df2 = df2.copy()\n",
    "\n",
    "  # Get z-scores for specified threshold\n",
    "  threshold_z_score = stats.norm.ppf(threshold)\n",
    "\n",
    "  # Get z-scores for each values in df2\n",
    "  z_score_df = pd.DataFrame(np.abs(stats.zscore(df2)), columns = df2.columns)\n",
    "\n",
    "  # compare df2 z_scores to the threshold and return the count of outliers in each column\n",
    "  return (z_score_df > threshold_z_score).sum(axis = 0)\n"
   ]
  },
  {
   "cell_type": "code",
   "execution_count": 26,
   "metadata": {
    "colab": {
     "base_uri": "https://localhost:8080/"
    },
    "executionInfo": {
     "elapsed": 655,
     "status": "ok",
     "timestamp": 1645383282052,
     "user": {
      "displayName": "Rishabh Puria",
      "photoUrl": "https://lh3.googleusercontent.com/a-/AOh14Ggmltxl3VQ-uv5PMpLuhtPbAWCpE42SvddHRWw=s64",
      "userId": "13441611883412184745"
     },
     "user_tz": -330
    },
    "id": "qFq_juqrKcFa",
    "outputId": "a34b4716-2a49-46db-9237-a9de14b54f0a"
   },
   "outputs": [
    {
     "data": {
      "text/plain": [
       "acousticness                   0\n",
       "danceability                   0\n",
       "duration_min                1871\n",
       "energy                         0\n",
       "instrumentalness               0\n",
       "key                            0\n",
       "liveness                    2039\n",
       "loudness                    1881\n",
       "mode                           0\n",
       "song_explicit                  0\n",
       "song_popularity                0\n",
       "speechiness                    0\n",
       "tempo                          7\n",
       "time_signature              7930\n",
       "total_available_markets    14502\n",
       "valence                        0\n",
       "dtype: int64"
      ]
     },
     "execution_count": 26,
     "metadata": {},
     "output_type": "execute_result"
    }
   ],
   "source": [
    "get_outlier_counts_recordwise(df2, 0.9999847) ## arrived at this threshold beacuse in this way we are not losing any information from Target Variable i.e. song_popularity"
   ]
  },
  {
   "cell_type": "code",
   "execution_count": 27,
   "metadata": {
    "executionInfo": {
     "elapsed": 382,
     "status": "ok",
     "timestamp": 1645383322792,
     "user": {
      "displayName": "Rishabh Puria",
      "photoUrl": "https://lh3.googleusercontent.com/a-/AOh14Ggmltxl3VQ-uv5PMpLuhtPbAWCpE42SvddHRWw=s64",
      "userId": "13441611883412184745"
     },
     "user_tz": -330
    },
    "id": "m7g3uZVPKnKW"
   },
   "outputs": [],
   "source": [
    "def Data_without_outliers(df2, threshold):\n",
    "  df2 = df2.copy()\n",
    "\n",
    "  # Get z-scores for specified threshold\n",
    "  threshold_z_score = stats.norm.ppf(threshold)\n",
    "\n",
    "  # Get z-scores for each values in df2\n",
    "  z_score_df = pd.DataFrame(np.abs(stats.zscore(df2)), columns = df2.columns)\n",
    "  z_score_df = z_score_df > threshold_z_score \n",
    "\n",
    "  # Get indices of the outliers\n",
    "  outliers = z_score_df.sum(axis=1)\n",
    "  outliers = outliers > 0\n",
    "  outlier_indices = df2.index[outliers]\n",
    "\n",
    "  # Drop Outliers\n",
    "  df2 = df2.drop(outlier_indices, axis = 0).reset_index(drop = True)\n",
    "\n",
    "  return df2"
   ]
  },
  {
   "cell_type": "markdown",
   "metadata": {
    "id": "MGBTzY1_Jtxn"
   },
   "source": [
    "#### **Pre-Processing**"
   ]
  },
  {
   "cell_type": "code",
   "execution_count": 28,
   "metadata": {
    "executionInfo": {
     "elapsed": 395,
     "status": "ok",
     "timestamp": 1645383358938,
     "user": {
      "displayName": "Rishabh Puria",
      "photoUrl": "https://lh3.googleusercontent.com/a-/AOh14Ggmltxl3VQ-uv5PMpLuhtPbAWCpE42SvddHRWw=s64",
      "userId": "13441611883412184745"
     },
     "user_tz": -330
    },
    "id": "MYbtiOLTq6ya"
   },
   "outputs": [],
   "source": [
    "# Creating a funtion which gives pre-processed Data for Model building & Validation\n",
    "\n",
    "def Preprocess_inputs(df2, outliers = True, threshold = 0.95):\n",
    "  df2 = df2.copy()\n",
    "\n",
    "  # Remove outliers if specified\n",
    "  if outliers == False:\n",
    "    df2 = Data_without_outliers(df2, threshold)\n",
    "\n",
    "  # Split df into X and y\n",
    "  y = df2['song_popularity'].copy()\n",
    "  X = df2.drop('song_popularity', axis=1).copy()\n",
    "    \n",
    "  # Train-test split\n",
    "  X_train, X_test, y_train, y_test = train_test_split(X, y, train_size=0.7, random_state=1)\n",
    "    \n",
    "  # Scale X with a standard scaler\n",
    "  scaler = StandardScaler()\n",
    "  scaler.fit(X_train)\n",
    "    \n",
    "  X_train = scaler.transform(X_train)\n",
    "  X_test = scaler.transform(X_test)\n",
    "\n",
    "\n",
    "  return X_train, X_test, y_train, y_test\n",
    "    "
   ]
  },
  {
   "cell_type": "code",
   "execution_count": 29,
   "metadata": {
    "executionInfo": {
     "elapsed": 1086,
     "status": "ok",
     "timestamp": 1645383467542,
     "user": {
      "displayName": "Rishabh Puria",
      "photoUrl": "https://lh3.googleusercontent.com/a-/AOh14Ggmltxl3VQ-uv5PMpLuhtPbAWCpE42SvddHRWw=s64",
      "userId": "13441611883412184745"
     },
     "user_tz": -330
    },
    "id": "VCkFW1LGWZry"
   },
   "outputs": [],
   "source": [
    "# Creaing 2 sets of Train-Test Split: One with Outliers present (with default threshold value of 0.95) & other with capacity to fine tune the no. of outliers based on a certain threshold value\n",
    "\n",
    "outlier_X_train, outlier_X_test, outlier_y_train, outlier_y_test = Preprocess_inputs(df2, outliers=True)\n",
    "\n",
    "X_train, X_test, y_train, y_test = Preprocess_inputs(df2, outliers=False, threshold=0.99999999999999999) # mentioned threshold value ignores the outliers (if any) from our data - Shown in next cell"
   ]
  },
  {
   "cell_type": "code",
   "execution_count": 30,
   "metadata": {
    "colab": {
     "base_uri": "https://localhost:8080/"
    },
    "executionInfo": {
     "elapsed": 408,
     "status": "ok",
     "timestamp": 1645390833341,
     "user": {
      "displayName": "Rishabh Puria",
      "photoUrl": "https://lh3.googleusercontent.com/a-/AOh14Ggmltxl3VQ-uv5PMpLuhtPbAWCpE42SvddHRWw=s64",
      "userId": "13441611883412184745"
     },
     "user_tz": -330
    },
    "id": "-ThTjYUV64iT",
    "outputId": "bfaf6d40-5930-4b20-ecff-bda06bcd3698"
   },
   "outputs": [
    {
     "data": {
      "text/plain": [
       "acousticness               0\n",
       "danceability               0\n",
       "duration_min               0\n",
       "energy                     0\n",
       "instrumentalness           0\n",
       "key                        0\n",
       "liveness                   0\n",
       "loudness                   0\n",
       "mode                       0\n",
       "song_explicit              0\n",
       "song_popularity            0\n",
       "speechiness                0\n",
       "tempo                      0\n",
       "time_signature             0\n",
       "total_available_markets    0\n",
       "valence                    0\n",
       "dtype: int64"
      ]
     },
     "execution_count": 30,
     "metadata": {},
     "output_type": "execute_result"
    }
   ],
   "source": [
    "get_outlier_counts_recordwise(df2, 0.99999999999999999) # mentioned threshold value ignores the outliers (if any) from our data"
   ]
  },
  {
   "cell_type": "markdown",
   "metadata": {
    "id": "rPncExn4W64A"
   },
   "source": [
    "## **Training Models**"
   ]
  },
  {
   "cell_type": "markdown",
   "metadata": {
    "id": "JEGiVTTNC8Nh"
   },
   "source": [
    "Applying Linear Regression to start things off"
   ]
  },
  {
   "cell_type": "code",
   "execution_count": 31,
   "metadata": {
    "colab": {
     "base_uri": "https://localhost:8080/"
    },
    "executionInfo": {
     "elapsed": 405,
     "status": "ok",
     "timestamp": 1645383474879,
     "user": {
      "displayName": "Rishabh Puria",
      "photoUrl": "https://lh3.googleusercontent.com/a-/AOh14Ggmltxl3VQ-uv5PMpLuhtPbAWCpE42SvddHRWw=s64",
      "userId": "13441611883412184745"
     },
     "user_tz": -330
    },
    "id": "TdL3ZDUEWsxs",
    "outputId": "8406b2a0-6dd5-4a0a-f154-8cd97b787648"
   },
   "outputs": [
    {
     "name": "stdout",
     "output_type": "stream",
     "text": [
      "Test Accuracy (Outliers): 4.91921%\n"
     ]
    }
   ],
   "source": [
    "# With outliers\n",
    "\n",
    "outlier_model = LinearRegression()\n",
    "outlier_model.fit(outlier_X_train, outlier_y_train)\n",
    "\n",
    "outlier_model_acc = outlier_model.score(outlier_X_test, outlier_y_test)\n",
    "\n",
    "print(\"Test Accuracy (Outliers): {:.5f}%\".format(outlier_model_acc * 100))"
   ]
  },
  {
   "cell_type": "code",
   "execution_count": 32,
   "metadata": {
    "colab": {
     "base_uri": "https://localhost:8080/"
    },
    "executionInfo": {
     "elapsed": 400,
     "status": "ok",
     "timestamp": 1645383478690,
     "user": {
      "displayName": "Rishabh Puria",
      "photoUrl": "https://lh3.googleusercontent.com/a-/AOh14Ggmltxl3VQ-uv5PMpLuhtPbAWCpE42SvddHRWw=s64",
      "userId": "13441611883412184745"
     },
     "user_tz": -330
    },
    "id": "WeYgZ79nW9Js",
    "outputId": "7df23431-7ca5-46a1-cae9-d18c83cabfee"
   },
   "outputs": [
    {
     "name": "stdout",
     "output_type": "stream",
     "text": [
      "Test Accuracy (No Outliers): 4.91921%\n"
     ]
    }
   ],
   "source": [
    "# Without outliers\n",
    "\n",
    "model = LinearRegression()\n",
    "model.fit(X_train, y_train)\n",
    "\n",
    "model_acc = model.score(X_test, y_test)\n",
    "\n",
    "print(\"Test Accuracy (No Outliers): {:.5f}%\".format(model_acc * 100))"
   ]
  },
  {
   "cell_type": "markdown",
   "metadata": {
    "id": "4C_95pMPDkWt"
   },
   "source": [
    "## Our first models failed miserably but lets keep trying"
   ]
  },
  {
   "cell_type": "code",
   "execution_count": 33,
   "metadata": {
    "colab": {
     "base_uri": "https://localhost:8080/",
     "height": 270
    },
    "executionInfo": {
     "elapsed": 405,
     "status": "ok",
     "timestamp": 1645383503099,
     "user": {
      "displayName": "Rishabh Puria",
      "photoUrl": "https://lh3.googleusercontent.com/a-/AOh14Ggmltxl3VQ-uv5PMpLuhtPbAWCpE42SvddHRWw=s64",
      "userId": "13441611883412184745"
     },
     "user_tz": -330
    },
    "id": "Kjrn2HbBXcyg",
    "outputId": "dd9fd0f6-d487-4693-9661-f806dc8fe7fe"
   },
   "outputs": [
    {
     "data": {
      "text/html": [
       "<div>\n",
       "<style scoped>\n",
       "    .dataframe tbody tr th:only-of-type {\n",
       "        vertical-align: middle;\n",
       "    }\n",
       "\n",
       "    .dataframe tbody tr th {\n",
       "        vertical-align: top;\n",
       "    }\n",
       "\n",
       "    .dataframe thead th {\n",
       "        text-align: right;\n",
       "    }\n",
       "</style>\n",
       "<table border=\"1\" class=\"dataframe\">\n",
       "  <thead>\n",
       "    <tr style=\"text-align: right;\">\n",
       "      <th></th>\n",
       "      <th>acousticness</th>\n",
       "      <th>danceability</th>\n",
       "      <th>duration_min</th>\n",
       "      <th>energy</th>\n",
       "      <th>instrumentalness</th>\n",
       "      <th>liveness</th>\n",
       "      <th>loudness</th>\n",
       "      <th>mode</th>\n",
       "      <th>song_explicit</th>\n",
       "      <th>song_popularity</th>\n",
       "      <th>...</th>\n",
       "      <th>key_6.0</th>\n",
       "      <th>key_7.0</th>\n",
       "      <th>key_8.0</th>\n",
       "      <th>key_9.0</th>\n",
       "      <th>key_10.0</th>\n",
       "      <th>key_11.0</th>\n",
       "      <th>time_signature_1.0</th>\n",
       "      <th>time_signature_3.0</th>\n",
       "      <th>time_signature_4.0</th>\n",
       "      <th>time_signature_5.0</th>\n",
       "    </tr>\n",
       "  </thead>\n",
       "  <tbody>\n",
       "    <tr>\n",
       "      <th>0</th>\n",
       "      <td>0.72100</td>\n",
       "      <td>0.585</td>\n",
       "      <td>4.033567</td>\n",
       "      <td>0.436</td>\n",
       "      <td>0.000013</td>\n",
       "      <td>0.1050</td>\n",
       "      <td>-8.761</td>\n",
       "      <td>1.0</td>\n",
       "      <td>1</td>\n",
       "      <td>100</td>\n",
       "      <td>...</td>\n",
       "      <td>0</td>\n",
       "      <td>0</td>\n",
       "      <td>0</td>\n",
       "      <td>0</td>\n",
       "      <td>1</td>\n",
       "      <td>0</td>\n",
       "      <td>0</td>\n",
       "      <td>0</td>\n",
       "      <td>1</td>\n",
       "      <td>0</td>\n",
       "    </tr>\n",
       "    <tr>\n",
       "      <th>1</th>\n",
       "      <td>0.02120</td>\n",
       "      <td>0.680</td>\n",
       "      <td>3.593783</td>\n",
       "      <td>0.826</td>\n",
       "      <td>0.000012</td>\n",
       "      <td>0.5430</td>\n",
       "      <td>-5.487</td>\n",
       "      <td>1.0</td>\n",
       "      <td>1</td>\n",
       "      <td>96</td>\n",
       "      <td>...</td>\n",
       "      <td>0</td>\n",
       "      <td>0</td>\n",
       "      <td>0</td>\n",
       "      <td>0</td>\n",
       "      <td>0</td>\n",
       "      <td>0</td>\n",
       "      <td>0</td>\n",
       "      <td>0</td>\n",
       "      <td>1</td>\n",
       "      <td>0</td>\n",
       "    </tr>\n",
       "    <tr>\n",
       "      <th>2</th>\n",
       "      <td>0.00146</td>\n",
       "      <td>0.514</td>\n",
       "      <td>3.334000</td>\n",
       "      <td>0.730</td>\n",
       "      <td>0.000095</td>\n",
       "      <td>0.0897</td>\n",
       "      <td>-5.934</td>\n",
       "      <td>1.0</td>\n",
       "      <td>0</td>\n",
       "      <td>96</td>\n",
       "      <td>...</td>\n",
       "      <td>0</td>\n",
       "      <td>0</td>\n",
       "      <td>0</td>\n",
       "      <td>0</td>\n",
       "      <td>0</td>\n",
       "      <td>0</td>\n",
       "      <td>0</td>\n",
       "      <td>0</td>\n",
       "      <td>1</td>\n",
       "      <td>0</td>\n",
       "    </tr>\n",
       "    <tr>\n",
       "      <th>3</th>\n",
       "      <td>0.22100</td>\n",
       "      <td>0.700</td>\n",
       "      <td>2.342100</td>\n",
       "      <td>0.722</td>\n",
       "      <td>0.000000</td>\n",
       "      <td>0.2720</td>\n",
       "      <td>-3.558</td>\n",
       "      <td>0.0</td>\n",
       "      <td>1</td>\n",
       "      <td>95</td>\n",
       "      <td>...</td>\n",
       "      <td>0</td>\n",
       "      <td>1</td>\n",
       "      <td>0</td>\n",
       "      <td>0</td>\n",
       "      <td>0</td>\n",
       "      <td>0</td>\n",
       "      <td>0</td>\n",
       "      <td>0</td>\n",
       "      <td>1</td>\n",
       "      <td>0</td>\n",
       "    </tr>\n",
       "    <tr>\n",
       "      <th>4</th>\n",
       "      <td>0.21300</td>\n",
       "      <td>0.662</td>\n",
       "      <td>2.689750</td>\n",
       "      <td>0.413</td>\n",
       "      <td>0.000000</td>\n",
       "      <td>0.1340</td>\n",
       "      <td>-7.357</td>\n",
       "      <td>1.0</td>\n",
       "      <td>1</td>\n",
       "      <td>94</td>\n",
       "      <td>...</td>\n",
       "      <td>0</td>\n",
       "      <td>0</td>\n",
       "      <td>0</td>\n",
       "      <td>0</td>\n",
       "      <td>0</td>\n",
       "      <td>0</td>\n",
       "      <td>0</td>\n",
       "      <td>0</td>\n",
       "      <td>1</td>\n",
       "      <td>0</td>\n",
       "    </tr>\n",
       "  </tbody>\n",
       "</table>\n",
       "<p>5 rows × 29 columns</p>\n",
       "</div>"
      ],
      "text/plain": [
       "   acousticness  danceability  duration_min  energy  instrumentalness  \\\n",
       "0       0.72100         0.585      4.033567   0.436          0.000013   \n",
       "1       0.02120         0.680      3.593783   0.826          0.000012   \n",
       "2       0.00146         0.514      3.334000   0.730          0.000095   \n",
       "3       0.22100         0.700      2.342100   0.722          0.000000   \n",
       "4       0.21300         0.662      2.689750   0.413          0.000000   \n",
       "\n",
       "   liveness  loudness  mode  song_explicit  song_popularity  ...  key_6.0  \\\n",
       "0    0.1050    -8.761   1.0              1              100  ...        0   \n",
       "1    0.5430    -5.487   1.0              1               96  ...        0   \n",
       "2    0.0897    -5.934   1.0              0               96  ...        0   \n",
       "3    0.2720    -3.558   0.0              1               95  ...        0   \n",
       "4    0.1340    -7.357   1.0              1               94  ...        0   \n",
       "\n",
       "   key_7.0  key_8.0  key_9.0  key_10.0  key_11.0  time_signature_1.0  \\\n",
       "0        0        0        0         1         0                   0   \n",
       "1        0        0        0         0         0                   0   \n",
       "2        0        0        0         0         0                   0   \n",
       "3        1        0        0         0         0                   0   \n",
       "4        0        0        0         0         0                   0   \n",
       "\n",
       "   time_signature_3.0  time_signature_4.0  time_signature_5.0  \n",
       "0                   0                   1                   0  \n",
       "1                   0                   1                   0  \n",
       "2                   0                   1                   0  \n",
       "3                   0                   1                   0  \n",
       "4                   0                   1                   0  \n",
       "\n",
       "[5 rows x 29 columns]"
      ]
     },
     "execution_count": 33,
     "metadata": {},
     "output_type": "execute_result"
    }
   ],
   "source": [
    "# Converting Dummies for few categorical features to see if performance of our model improves\n",
    "\n",
    "df3 = pd.get_dummies(df2, columns = ['key', 'time_signature'], drop_first = True)\n",
    "df3.head()"
   ]
  },
  {
   "cell_type": "code",
   "execution_count": 34,
   "metadata": {
    "executionInfo": {
     "elapsed": 3611,
     "status": "ok",
     "timestamp": 1645386378838,
     "user": {
      "displayName": "Rishabh Puria",
      "photoUrl": "https://lh3.googleusercontent.com/a-/AOh14Ggmltxl3VQ-uv5PMpLuhtPbAWCpE42SvddHRWw=s64",
      "userId": "13441611883412184745"
     },
     "user_tz": -330
    },
    "id": "S2X2iEE1ZC-1"
   },
   "outputs": [],
   "source": [
    "outlier_X_train, outlier_X_test, outlier_y_train, outlier_y_test = Preprocess_inputs(df3, outliers=True)\n",
    "\n",
    "X_train, X_test, y_train, y_test = Preprocess_inputs(df3, outliers=False, threshold=0.9999999999999999)"
   ]
  },
  {
   "cell_type": "code",
   "execution_count": 35,
   "metadata": {
    "colab": {
     "base_uri": "https://localhost:8080/"
    },
    "executionInfo": {
     "elapsed": 1082,
     "status": "ok",
     "timestamp": 1645383548243,
     "user": {
      "displayName": "Rishabh Puria",
      "photoUrl": "https://lh3.googleusercontent.com/a-/AOh14Ggmltxl3VQ-uv5PMpLuhtPbAWCpE42SvddHRWw=s64",
      "userId": "13441611883412184745"
     },
     "user_tz": -330
    },
    "id": "9WzTKAsbgYXa",
    "outputId": "219428b8-9585-472a-9999-33234f65f677"
   },
   "outputs": [
    {
     "name": "stdout",
     "output_type": "stream",
     "text": [
      "Test Accuracy (Outliers): 5.04390%\n"
     ]
    }
   ],
   "source": [
    "# With outliers\n",
    "\n",
    "outlier_model = LinearRegression()\n",
    "outlier_model.fit(outlier_X_train, outlier_y_train)\n",
    "\n",
    "outlier_model_acc = outlier_model.score(outlier_X_test, outlier_y_test)\n",
    "\n",
    "print(\"Test Accuracy (Outliers): {:.5f}%\".format(outlier_model_acc * 100))"
   ]
  },
  {
   "cell_type": "code",
   "execution_count": 36,
   "metadata": {
    "colab": {
     "base_uri": "https://localhost:8080/"
    },
    "executionInfo": {
     "elapsed": 395,
     "status": "ok",
     "timestamp": 1645383551135,
     "user": {
      "displayName": "Rishabh Puria",
      "photoUrl": "https://lh3.googleusercontent.com/a-/AOh14Ggmltxl3VQ-uv5PMpLuhtPbAWCpE42SvddHRWw=s64",
      "userId": "13441611883412184745"
     },
     "user_tz": -330
    },
    "id": "lgCfnERanEs7",
    "outputId": "90987413-03e5-41f0-f2f3-75d5e0f72802"
   },
   "outputs": [
    {
     "name": "stdout",
     "output_type": "stream",
     "text": [
      "Test Accuracy (No Outliers): 5.25043%\n"
     ]
    }
   ],
   "source": [
    "# Without outliers\n",
    "\n",
    "model = LinearRegression()\n",
    "model.fit(X_train, y_train)\n",
    "\n",
    "model_acc = model.score(X_test, y_test)\n",
    "\n",
    "print(\"Test Accuracy (No Outliers): {:.5f}%\".format(model_acc * 100))"
   ]
  },
  {
   "cell_type": "markdown",
   "metadata": {
    "id": "kaUG2TKCpjez"
   },
   "source": [
    "### Changing our strategy to see if we could classify our Target Variable into Popular (1) or Not-Popular (0) classes, instead of getting a numeric rank.\n",
    "\n",
    "#### Assumptions:\n",
    "\n",
    "song_popularity > 50 as Popular\n",
    "\n",
    "song_popularity <= 50 as Not-Popular"
   ]
  },
  {
   "cell_type": "code",
   "execution_count": 37,
   "metadata": {
    "executionInfo": {
     "elapsed": 380,
     "status": "ok",
     "timestamp": 1645393222930,
     "user": {
      "displayName": "Rishabh Puria",
      "photoUrl": "https://lh3.googleusercontent.com/a-/AOh14Ggmltxl3VQ-uv5PMpLuhtPbAWCpE42SvddHRWw=s64",
      "userId": "13441611883412184745"
     },
     "user_tz": -330
    },
    "id": "GI76fgG6wj9y"
   },
   "outputs": [],
   "source": [
    "df3['song_popularity'] = np.where(df3['song_popularity'] > 50, 1, 0)"
   ]
  },
  {
   "cell_type": "code",
   "execution_count": 38,
   "metadata": {
    "colab": {
     "base_uri": "https://localhost:8080/",
     "height": 270
    },
    "executionInfo": {
     "elapsed": 439,
     "status": "ok",
     "timestamp": 1645386310209,
     "user": {
      "displayName": "Rishabh Puria",
      "photoUrl": "https://lh3.googleusercontent.com/a-/AOh14Ggmltxl3VQ-uv5PMpLuhtPbAWCpE42SvddHRWw=s64",
      "userId": "13441611883412184745"
     },
     "user_tz": -330
    },
    "id": "CVG9G8N8gvqt",
    "outputId": "0627957a-9e3b-4b30-890b-aa98e2126ffb"
   },
   "outputs": [
    {
     "data": {
      "text/html": [
       "<div>\n",
       "<style scoped>\n",
       "    .dataframe tbody tr th:only-of-type {\n",
       "        vertical-align: middle;\n",
       "    }\n",
       "\n",
       "    .dataframe tbody tr th {\n",
       "        vertical-align: top;\n",
       "    }\n",
       "\n",
       "    .dataframe thead th {\n",
       "        text-align: right;\n",
       "    }\n",
       "</style>\n",
       "<table border=\"1\" class=\"dataframe\">\n",
       "  <thead>\n",
       "    <tr style=\"text-align: right;\">\n",
       "      <th></th>\n",
       "      <th>acousticness</th>\n",
       "      <th>danceability</th>\n",
       "      <th>duration_min</th>\n",
       "      <th>energy</th>\n",
       "      <th>instrumentalness</th>\n",
       "      <th>liveness</th>\n",
       "      <th>loudness</th>\n",
       "      <th>mode</th>\n",
       "      <th>song_explicit</th>\n",
       "      <th>song_popularity</th>\n",
       "      <th>...</th>\n",
       "      <th>key_6.0</th>\n",
       "      <th>key_7.0</th>\n",
       "      <th>key_8.0</th>\n",
       "      <th>key_9.0</th>\n",
       "      <th>key_10.0</th>\n",
       "      <th>key_11.0</th>\n",
       "      <th>time_signature_1.0</th>\n",
       "      <th>time_signature_3.0</th>\n",
       "      <th>time_signature_4.0</th>\n",
       "      <th>time_signature_5.0</th>\n",
       "    </tr>\n",
       "  </thead>\n",
       "  <tbody>\n",
       "    <tr>\n",
       "      <th>0</th>\n",
       "      <td>0.72100</td>\n",
       "      <td>0.585</td>\n",
       "      <td>4.033567</td>\n",
       "      <td>0.436</td>\n",
       "      <td>0.000013</td>\n",
       "      <td>0.1050</td>\n",
       "      <td>-8.761</td>\n",
       "      <td>1.0</td>\n",
       "      <td>1</td>\n",
       "      <td>1</td>\n",
       "      <td>...</td>\n",
       "      <td>0</td>\n",
       "      <td>0</td>\n",
       "      <td>0</td>\n",
       "      <td>0</td>\n",
       "      <td>1</td>\n",
       "      <td>0</td>\n",
       "      <td>0</td>\n",
       "      <td>0</td>\n",
       "      <td>1</td>\n",
       "      <td>0</td>\n",
       "    </tr>\n",
       "    <tr>\n",
       "      <th>1</th>\n",
       "      <td>0.02120</td>\n",
       "      <td>0.680</td>\n",
       "      <td>3.593783</td>\n",
       "      <td>0.826</td>\n",
       "      <td>0.000012</td>\n",
       "      <td>0.5430</td>\n",
       "      <td>-5.487</td>\n",
       "      <td>1.0</td>\n",
       "      <td>1</td>\n",
       "      <td>1</td>\n",
       "      <td>...</td>\n",
       "      <td>0</td>\n",
       "      <td>0</td>\n",
       "      <td>0</td>\n",
       "      <td>0</td>\n",
       "      <td>0</td>\n",
       "      <td>0</td>\n",
       "      <td>0</td>\n",
       "      <td>0</td>\n",
       "      <td>1</td>\n",
       "      <td>0</td>\n",
       "    </tr>\n",
       "    <tr>\n",
       "      <th>2</th>\n",
       "      <td>0.00146</td>\n",
       "      <td>0.514</td>\n",
       "      <td>3.334000</td>\n",
       "      <td>0.730</td>\n",
       "      <td>0.000095</td>\n",
       "      <td>0.0897</td>\n",
       "      <td>-5.934</td>\n",
       "      <td>1.0</td>\n",
       "      <td>0</td>\n",
       "      <td>1</td>\n",
       "      <td>...</td>\n",
       "      <td>0</td>\n",
       "      <td>0</td>\n",
       "      <td>0</td>\n",
       "      <td>0</td>\n",
       "      <td>0</td>\n",
       "      <td>0</td>\n",
       "      <td>0</td>\n",
       "      <td>0</td>\n",
       "      <td>1</td>\n",
       "      <td>0</td>\n",
       "    </tr>\n",
       "    <tr>\n",
       "      <th>3</th>\n",
       "      <td>0.22100</td>\n",
       "      <td>0.700</td>\n",
       "      <td>2.342100</td>\n",
       "      <td>0.722</td>\n",
       "      <td>0.000000</td>\n",
       "      <td>0.2720</td>\n",
       "      <td>-3.558</td>\n",
       "      <td>0.0</td>\n",
       "      <td>1</td>\n",
       "      <td>1</td>\n",
       "      <td>...</td>\n",
       "      <td>0</td>\n",
       "      <td>1</td>\n",
       "      <td>0</td>\n",
       "      <td>0</td>\n",
       "      <td>0</td>\n",
       "      <td>0</td>\n",
       "      <td>0</td>\n",
       "      <td>0</td>\n",
       "      <td>1</td>\n",
       "      <td>0</td>\n",
       "    </tr>\n",
       "    <tr>\n",
       "      <th>4</th>\n",
       "      <td>0.21300</td>\n",
       "      <td>0.662</td>\n",
       "      <td>2.689750</td>\n",
       "      <td>0.413</td>\n",
       "      <td>0.000000</td>\n",
       "      <td>0.1340</td>\n",
       "      <td>-7.357</td>\n",
       "      <td>1.0</td>\n",
       "      <td>1</td>\n",
       "      <td>1</td>\n",
       "      <td>...</td>\n",
       "      <td>0</td>\n",
       "      <td>0</td>\n",
       "      <td>0</td>\n",
       "      <td>0</td>\n",
       "      <td>0</td>\n",
       "      <td>0</td>\n",
       "      <td>0</td>\n",
       "      <td>0</td>\n",
       "      <td>1</td>\n",
       "      <td>0</td>\n",
       "    </tr>\n",
       "  </tbody>\n",
       "</table>\n",
       "<p>5 rows × 29 columns</p>\n",
       "</div>"
      ],
      "text/plain": [
       "   acousticness  danceability  duration_min  energy  instrumentalness  \\\n",
       "0       0.72100         0.585      4.033567   0.436          0.000013   \n",
       "1       0.02120         0.680      3.593783   0.826          0.000012   \n",
       "2       0.00146         0.514      3.334000   0.730          0.000095   \n",
       "3       0.22100         0.700      2.342100   0.722          0.000000   \n",
       "4       0.21300         0.662      2.689750   0.413          0.000000   \n",
       "\n",
       "   liveness  loudness  mode  song_explicit  song_popularity  ...  key_6.0  \\\n",
       "0    0.1050    -8.761   1.0              1                1  ...        0   \n",
       "1    0.5430    -5.487   1.0              1                1  ...        0   \n",
       "2    0.0897    -5.934   1.0              0                1  ...        0   \n",
       "3    0.2720    -3.558   0.0              1                1  ...        0   \n",
       "4    0.1340    -7.357   1.0              1                1  ...        0   \n",
       "\n",
       "   key_7.0  key_8.0  key_9.0  key_10.0  key_11.0  time_signature_1.0  \\\n",
       "0        0        0        0         1         0                   0   \n",
       "1        0        0        0         0         0                   0   \n",
       "2        0        0        0         0         0                   0   \n",
       "3        1        0        0         0         0                   0   \n",
       "4        0        0        0         0         0                   0   \n",
       "\n",
       "   time_signature_3.0  time_signature_4.0  time_signature_5.0  \n",
       "0                   0                   1                   0  \n",
       "1                   0                   1                   0  \n",
       "2                   0                   1                   0  \n",
       "3                   0                   1                   0  \n",
       "4                   0                   1                   0  \n",
       "\n",
       "[5 rows x 29 columns]"
      ]
     },
     "execution_count": 38,
     "metadata": {},
     "output_type": "execute_result"
    }
   ],
   "source": [
    "df3.head()"
   ]
  },
  {
   "cell_type": "markdown",
   "metadata": {
    "id": "ramxvMfIG6sN"
   },
   "source": [
    "#### Applying Classification Models"
   ]
  },
  {
   "cell_type": "code",
   "execution_count": 40,
   "metadata": {
    "colab": {
     "base_uri": "https://localhost:8080/"
    },
    "executionInfo": {
     "elapsed": 414,
     "status": "ok",
     "timestamp": 1645384076398,
     "user": {
      "displayName": "Rishabh Puria",
      "photoUrl": "https://lh3.googleusercontent.com/a-/AOh14Ggmltxl3VQ-uv5PMpLuhtPbAWCpE42SvddHRWw=s64",
      "userId": "13441611883412184745"
     },
     "user_tz": -330
    },
    "id": "H3rvWVxKgpzz",
    "outputId": "71f629bd-b425-47e7-9200-3014eddab6ae"
   },
   "outputs": [
    {
     "name": "stdout",
     "output_type": "stream",
     "text": [
      "Logistic Regression Accuracy: 0.13572987390882638\n"
     ]
    }
   ],
   "source": [
    "# With outliers - Logistic Regression\n",
    "\n",
    "outlier_log_model = LogisticRegression(n_jobs = -1)\n",
    "outlier_log_model.fit(outlier_X_train, outlier_y_train)\n",
    "outlier_log_acc = outlier_log_model.score(outlier_X_test, outlier_y_test)\n",
    "print(\"Logistic Regression Accuracy:\", outlier_log_acc)"
   ]
  },
  {
   "cell_type": "code",
   "execution_count": 82,
   "metadata": {
    "colab": {
     "base_uri": "https://localhost:8080/"
    },
    "executionInfo": {
     "elapsed": 777117,
     "status": "ok",
     "timestamp": 1645385989259,
     "user": {
      "displayName": "Rishabh Puria",
      "photoUrl": "https://lh3.googleusercontent.com/a-/AOh14Ggmltxl3VQ-uv5PMpLuhtPbAWCpE42SvddHRWw=s64",
      "userId": "13441611883412184745"
     },
     "user_tz": -330
    },
    "id": "xcrM4NObiIeq",
    "outputId": "4aa2f9d1-1fe8-4314-a291-f4a9bc6c8dc3"
   },
   "outputs": [
    {
     "name": "stdout",
     "output_type": "stream",
     "text": [
      "K-Nearest-Neighbors Accuracy: 0.09331049951503395\n"
     ]
    }
   ],
   "source": [
    "# With outliers - KNeighborsClassifier\n",
    "\n",
    "outlier_knn_model = KNeighborsClassifier(n_jobs = -1)\n",
    "outlier_knn_model.fit(outlier_X_train, outlier_y_train)\n",
    "outlier_knn_acc = outlier_knn_model.score(outlier_X_test, outlier_y_test)\n",
    "print(\"K-Nearest-Neighbors Accuracy:\", outlier_knn_acc)"
   ]
  },
  {
   "cell_type": "code",
   "execution_count": null,
   "metadata": {
    "id": "y5sX7IlajSDD"
   },
   "outputs": [],
   "source": [
    "# With outliers - Support Vector Classifier\n",
    "\n",
    "outlier_svm_model = SVC(n_jobs=-1)\n",
    "outlier_svm_model.fit(outlier_X_train, outlier_y_train)\n",
    "outlier_svm_acc = outlier_svm_model.score(outlier_X_test, outlier_y_test)\n",
    "print(\"Support Vector Machine Accuracy:\", outlier_svm_acc)\n",
    "\n",
    "# Was taking longer time so had to interrput "
   ]
  },
  {
   "cell_type": "markdown",
   "metadata": {
    "id": "8jnIgA76HWzG"
   },
   "source": [
    "### Our models are still performing poorly; need to change our technique a bit\n",
    "\n",
    "#### Lets see how our Target Variable is now distributed"
   ]
  },
  {
   "cell_type": "code",
   "execution_count": 41,
   "metadata": {
    "colab": {
     "base_uri": "https://localhost:8080/"
    },
    "executionInfo": {
     "elapsed": 421,
     "status": "ok",
     "timestamp": 1645386463056,
     "user": {
      "displayName": "Rishabh Puria",
      "photoUrl": "https://lh3.googleusercontent.com/a-/AOh14Ggmltxl3VQ-uv5PMpLuhtPbAWCpE42SvddHRWw=s64",
      "userId": "13441611883412184745"
     },
     "user_tz": -330
    },
    "id": "5-bQeINtyi_f",
    "outputId": "8dc508fc-a0e9-44b0-e83a-59279ec64165"
   },
   "outputs": [
    {
     "data": {
      "text/plain": [
       "0    398703\n",
       "1     41190\n",
       "Name: song_popularity, dtype: int64"
      ]
     },
     "execution_count": 41,
     "metadata": {},
     "output_type": "execute_result"
    }
   ],
   "source": [
    "df3['song_popularity'].value_counts()"
   ]
  },
  {
   "cell_type": "code",
   "execution_count": 42,
   "metadata": {
    "colab": {
     "base_uri": "https://localhost:8080/"
    },
    "executionInfo": {
     "elapsed": 482,
     "status": "ok",
     "timestamp": 1645386467675,
     "user": {
      "displayName": "Rishabh Puria",
      "photoUrl": "https://lh3.googleusercontent.com/a-/AOh14Ggmltxl3VQ-uv5PMpLuhtPbAWCpE42SvddHRWw=s64",
      "userId": "13441611883412184745"
     },
     "user_tz": -330
    },
    "id": "eGU84lwH3RtS",
    "outputId": "18041044-11de-44a6-d464-ebea9d101d35"
   },
   "outputs": [
    {
     "data": {
      "text/plain": [
       "10.785931859962696"
      ]
     },
     "execution_count": 42,
     "metadata": {},
     "output_type": "execute_result"
    }
   ],
   "source": [
    "# Calculating fraction of records which are labelled as popular (Minority Class)\n",
    "\n",
    "(40190/372615)*100"
   ]
  },
  {
   "cell_type": "markdown",
   "metadata": {
    "id": "MMMz71gkItEC"
   },
   "source": [
    "#### Target Variable is highly imbalanced and biased towards majority class which represents class '0' i.e Not-Popular"
   ]
  },
  {
   "cell_type": "code",
   "execution_count": 43,
   "metadata": {
    "id": "VjHg7YqbqxpS"
   },
   "outputs": [],
   "source": [
    "X_train, X_test, y_train, y_test = Preprocess_inputs(df3, outliers=False, threshold=0.9999999999999999)"
   ]
  },
  {
   "cell_type": "code",
   "execution_count": 44,
   "metadata": {
    "executionInfo": {
     "elapsed": 21646,
     "status": "ok",
     "timestamp": 1645386954605,
     "user": {
      "displayName": "Rishabh Puria",
      "photoUrl": "https://lh3.googleusercontent.com/a-/AOh14Ggmltxl3VQ-uv5PMpLuhtPbAWCpE42SvddHRWw=s64",
      "userId": "13441611883412184745"
     },
     "user_tz": -330
    },
    "id": "GUTb1O0DrXBp"
   },
   "outputs": [],
   "source": [
    "# Treating imbalance of Target variable using SMOTE i.e. synthetic minority oversampling techniques\n",
    "\n",
    "sm = SMOTE(random_state=12)\n",
    "\n",
    "X_train_sm, y_train_sm = sm.fit_resample(X_train, y_train) # We can only apply it to training sets of data, we can't apply it to test set as it would mis-represent our data, as we are creating synthetic samples."
   ]
  },
  {
   "cell_type": "code",
   "execution_count": 45,
   "metadata": {
    "colab": {
     "base_uri": "https://localhost:8080/"
    },
    "executionInfo": {
     "elapsed": 387,
     "status": "ok",
     "timestamp": 1645395093052,
     "user": {
      "displayName": "Rishabh Puria",
      "photoUrl": "https://lh3.googleusercontent.com/a-/AOh14Ggmltxl3VQ-uv5PMpLuhtPbAWCpE42SvddHRWw=s64",
      "userId": "13441611883412184745"
     },
     "user_tz": -330
    },
    "id": "e9V3eOdetKJR",
    "outputId": "8cfc9b3f-aa74-4f3f-bba5-ce8efe38e1c9"
   },
   "outputs": [
    {
     "name": "stdout",
     "output_type": "stream",
     "text": [
      "0    278638\n",
      "1     28897\n",
      "Name: song_popularity, dtype: int64\n"
     ]
    }
   ],
   "source": [
    "# how our target variable looked before SMOTE \n",
    "\n",
    "print (y_train.value_counts())"
   ]
  },
  {
   "cell_type": "code",
   "execution_count": 46,
   "metadata": {
    "colab": {
     "base_uri": "https://localhost:8080/"
    },
    "executionInfo": {
     "elapsed": 640,
     "status": "ok",
     "timestamp": 1645395131517,
     "user": {
      "displayName": "Rishabh Puria",
      "photoUrl": "https://lh3.googleusercontent.com/a-/AOh14Ggmltxl3VQ-uv5PMpLuhtPbAWCpE42SvddHRWw=s64",
      "userId": "13441611883412184745"
     },
     "user_tz": -330
    },
    "id": "0C_mTJqXtcmP",
    "outputId": "800dbe80-a0f7-46b9-d045-d6d259518a0a"
   },
   "outputs": [
    {
     "name": "stdout",
     "output_type": "stream",
     "text": [
      "0    278638\n",
      "1    278638\n",
      "Name: song_popularity, dtype: int64\n"
     ]
    }
   ],
   "source": [
    "# how our target variable looks after SMOTE \n",
    "\n",
    "print(y_train_sm.value_counts())"
   ]
  },
  {
   "cell_type": "markdown",
   "metadata": {
    "id": "XYQQsBL-MXzS"
   },
   "source": [
    "**Using these transformed training variables**"
   ]
  },
  {
   "cell_type": "code",
   "execution_count": 47,
   "metadata": {
    "colab": {
     "base_uri": "https://localhost:8080/"
    },
    "executionInfo": {
     "elapsed": 13768,
     "status": "ok",
     "timestamp": 1645387577062,
     "user": {
      "displayName": "Rishabh Puria",
      "photoUrl": "https://lh3.googleusercontent.com/a-/AOh14Ggmltxl3VQ-uv5PMpLuhtPbAWCpE42SvddHRWw=s64",
      "userId": "13441611883412184745"
     },
     "user_tz": -330
    },
    "id": "4OEk9WH_u1dU",
    "outputId": "1c781547-1a52-4734-98d7-eb2002214558"
   },
   "outputs": [
    {
     "name": "stdout",
     "output_type": "stream",
     "text": [
      "Logistic Regression Accuracy: 0.8823841823341072\n"
     ]
    }
   ],
   "source": [
    "# Logistic Regression\n",
    "\n",
    "log_model = LogisticRegression(n_jobs=-1)\n",
    "log_model.fit(X_train_sm, y_train_sm)\n",
    "log_acc = outlier_log_model.score(X_test, y_test)\n",
    "print(\"Logistic Regression Accuracy:\", log_acc)"
   ]
  },
  {
   "cell_type": "markdown",
   "metadata": {
    "id": "XUJo5CfhMzG0"
   },
   "source": [
    "Voila!! Our model perfomance increased significantly i.e. it rose up to 88.23%."
   ]
  },
  {
   "cell_type": "code",
   "execution_count": 48,
   "metadata": {
    "colab": {
     "base_uri": "https://localhost:8080/",
     "height": 397
    },
    "executionInfo": {
     "elapsed": 2295857,
     "status": "error",
     "timestamp": 1645389980592,
     "user": {
      "displayName": "Rishabh Puria",
      "photoUrl": "https://lh3.googleusercontent.com/a-/AOh14Ggmltxl3VQ-uv5PMpLuhtPbAWCpE42SvddHRWw=s64",
      "userId": "13441611883412184745"
     },
     "user_tz": -330
    },
    "id": "dD-Uzgpuu1l9",
    "outputId": "9a29e2e4-acd5-449a-86fd-67b83407f3f9"
   },
   "outputs": [
    {
     "ename": "KeyboardInterrupt",
     "evalue": "",
     "output_type": "error",
     "traceback": [
      "\u001b[1;31m---------------------------------------------------------------------------\u001b[0m",
      "\u001b[1;31mKeyboardInterrupt\u001b[0m                         Traceback (most recent call last)",
      "\u001b[1;32m~\\AppData\\Local\\Temp/ipykernel_14532/3869128947.py\u001b[0m in \u001b[0;36m<module>\u001b[1;34m\u001b[0m\n\u001b[0;32m      3\u001b[0m \u001b[0moutlier_knn_model\u001b[0m \u001b[1;33m=\u001b[0m \u001b[0mKNeighborsClassifier\u001b[0m\u001b[1;33m(\u001b[0m\u001b[0mn_jobs\u001b[0m\u001b[1;33m=\u001b[0m\u001b[1;36m4\u001b[0m\u001b[1;33m)\u001b[0m\u001b[1;33m\u001b[0m\u001b[1;33m\u001b[0m\u001b[0m\n\u001b[0;32m      4\u001b[0m \u001b[0moutlier_knn_model\u001b[0m\u001b[1;33m.\u001b[0m\u001b[0mfit\u001b[0m\u001b[1;33m(\u001b[0m\u001b[0mX_train_sm\u001b[0m\u001b[1;33m,\u001b[0m \u001b[0my_train_sm\u001b[0m\u001b[1;33m)\u001b[0m\u001b[1;33m\u001b[0m\u001b[1;33m\u001b[0m\u001b[0m\n\u001b[1;32m----> 5\u001b[1;33m \u001b[0moutlier_knn_acc\u001b[0m \u001b[1;33m=\u001b[0m \u001b[0moutlier_knn_model\u001b[0m\u001b[1;33m.\u001b[0m\u001b[0mscore\u001b[0m\u001b[1;33m(\u001b[0m\u001b[0mX_test\u001b[0m\u001b[1;33m,\u001b[0m \u001b[0my_test\u001b[0m\u001b[1;33m)\u001b[0m\u001b[1;33m\u001b[0m\u001b[1;33m\u001b[0m\u001b[0m\n\u001b[0m\u001b[0;32m      6\u001b[0m \u001b[0mprint\u001b[0m\u001b[1;33m(\u001b[0m\u001b[1;34m\"K-Nearest-Neighbors Accuracy:\"\u001b[0m\u001b[1;33m,\u001b[0m \u001b[0moutlier_knn_acc\u001b[0m\u001b[1;33m)\u001b[0m\u001b[1;33m\u001b[0m\u001b[1;33m\u001b[0m\u001b[0m\n",
      "\u001b[1;32m~\\anaconda3\\lib\\site-packages\\sklearn\\base.py\u001b[0m in \u001b[0;36mscore\u001b[1;34m(self, X, y, sample_weight)\u001b[0m\n\u001b[0;32m    649\u001b[0m         \u001b[1;32mfrom\u001b[0m \u001b[1;33m.\u001b[0m\u001b[0mmetrics\u001b[0m \u001b[1;32mimport\u001b[0m \u001b[0maccuracy_score\u001b[0m\u001b[1;33m\u001b[0m\u001b[1;33m\u001b[0m\u001b[0m\n\u001b[0;32m    650\u001b[0m \u001b[1;33m\u001b[0m\u001b[0m\n\u001b[1;32m--> 651\u001b[1;33m         \u001b[1;32mreturn\u001b[0m \u001b[0maccuracy_score\u001b[0m\u001b[1;33m(\u001b[0m\u001b[0my\u001b[0m\u001b[1;33m,\u001b[0m \u001b[0mself\u001b[0m\u001b[1;33m.\u001b[0m\u001b[0mpredict\u001b[0m\u001b[1;33m(\u001b[0m\u001b[0mX\u001b[0m\u001b[1;33m)\u001b[0m\u001b[1;33m,\u001b[0m \u001b[0msample_weight\u001b[0m\u001b[1;33m=\u001b[0m\u001b[0msample_weight\u001b[0m\u001b[1;33m)\u001b[0m\u001b[1;33m\u001b[0m\u001b[1;33m\u001b[0m\u001b[0m\n\u001b[0m\u001b[0;32m    652\u001b[0m \u001b[1;33m\u001b[0m\u001b[0m\n\u001b[0;32m    653\u001b[0m     \u001b[1;32mdef\u001b[0m \u001b[0m_more_tags\u001b[0m\u001b[1;33m(\u001b[0m\u001b[0mself\u001b[0m\u001b[1;33m)\u001b[0m\u001b[1;33m:\u001b[0m\u001b[1;33m\u001b[0m\u001b[1;33m\u001b[0m\u001b[0m\n",
      "\u001b[1;32m~\\anaconda3\\lib\\site-packages\\sklearn\\neighbors\\_classification.py\u001b[0m in \u001b[0;36mpredict\u001b[1;34m(self, X)\u001b[0m\n\u001b[0;32m    212\u001b[0m             \u001b[0mClass\u001b[0m \u001b[0mlabels\u001b[0m \u001b[1;32mfor\u001b[0m \u001b[0meach\u001b[0m \u001b[0mdata\u001b[0m \u001b[0msample\u001b[0m\u001b[1;33m.\u001b[0m\u001b[1;33m\u001b[0m\u001b[1;33m\u001b[0m\u001b[0m\n\u001b[0;32m    213\u001b[0m         \"\"\"\n\u001b[1;32m--> 214\u001b[1;33m         \u001b[0mneigh_dist\u001b[0m\u001b[1;33m,\u001b[0m \u001b[0mneigh_ind\u001b[0m \u001b[1;33m=\u001b[0m \u001b[0mself\u001b[0m\u001b[1;33m.\u001b[0m\u001b[0mkneighbors\u001b[0m\u001b[1;33m(\u001b[0m\u001b[0mX\u001b[0m\u001b[1;33m)\u001b[0m\u001b[1;33m\u001b[0m\u001b[1;33m\u001b[0m\u001b[0m\n\u001b[0m\u001b[0;32m    215\u001b[0m         \u001b[0mclasses_\u001b[0m \u001b[1;33m=\u001b[0m \u001b[0mself\u001b[0m\u001b[1;33m.\u001b[0m\u001b[0mclasses_\u001b[0m\u001b[1;33m\u001b[0m\u001b[1;33m\u001b[0m\u001b[0m\n\u001b[0;32m    216\u001b[0m         \u001b[0m_y\u001b[0m \u001b[1;33m=\u001b[0m \u001b[0mself\u001b[0m\u001b[1;33m.\u001b[0m\u001b[0m_y\u001b[0m\u001b[1;33m\u001b[0m\u001b[1;33m\u001b[0m\u001b[0m\n",
      "\u001b[1;32m~\\anaconda3\\lib\\site-packages\\sklearn\\neighbors\\_base.py\u001b[0m in \u001b[0;36mkneighbors\u001b[1;34m(self, X, n_neighbors, return_distance)\u001b[0m\n\u001b[0;32m    750\u001b[0m                 \u001b[0mkwds\u001b[0m \u001b[1;33m=\u001b[0m \u001b[0mself\u001b[0m\u001b[1;33m.\u001b[0m\u001b[0meffective_metric_params_\u001b[0m\u001b[1;33m\u001b[0m\u001b[1;33m\u001b[0m\u001b[0m\n\u001b[0;32m    751\u001b[0m \u001b[1;33m\u001b[0m\u001b[0m\n\u001b[1;32m--> 752\u001b[1;33m             chunked_results = list(\n\u001b[0m\u001b[0;32m    753\u001b[0m                 pairwise_distances_chunked(\n\u001b[0;32m    754\u001b[0m                     \u001b[0mX\u001b[0m\u001b[1;33m,\u001b[0m\u001b[1;33m\u001b[0m\u001b[1;33m\u001b[0m\u001b[0m\n",
      "\u001b[1;32m~\\anaconda3\\lib\\site-packages\\sklearn\\metrics\\pairwise.py\u001b[0m in \u001b[0;36mpairwise_distances_chunked\u001b[1;34m(X, Y, reduce_func, metric, n_jobs, working_memory, **kwds)\u001b[0m\n\u001b[0;32m   1724\u001b[0m         \u001b[1;32mif\u001b[0m \u001b[0mreduce_func\u001b[0m \u001b[1;32mis\u001b[0m \u001b[1;32mnot\u001b[0m \u001b[1;32mNone\u001b[0m\u001b[1;33m:\u001b[0m\u001b[1;33m\u001b[0m\u001b[1;33m\u001b[0m\u001b[0m\n\u001b[0;32m   1725\u001b[0m             \u001b[0mchunk_size\u001b[0m \u001b[1;33m=\u001b[0m \u001b[0mD_chunk\u001b[0m\u001b[1;33m.\u001b[0m\u001b[0mshape\u001b[0m\u001b[1;33m[\u001b[0m\u001b[1;36m0\u001b[0m\u001b[1;33m]\u001b[0m\u001b[1;33m\u001b[0m\u001b[1;33m\u001b[0m\u001b[0m\n\u001b[1;32m-> 1726\u001b[1;33m             \u001b[0mD_chunk\u001b[0m \u001b[1;33m=\u001b[0m \u001b[0mreduce_func\u001b[0m\u001b[1;33m(\u001b[0m\u001b[0mD_chunk\u001b[0m\u001b[1;33m,\u001b[0m \u001b[0msl\u001b[0m\u001b[1;33m.\u001b[0m\u001b[0mstart\u001b[0m\u001b[1;33m)\u001b[0m\u001b[1;33m\u001b[0m\u001b[1;33m\u001b[0m\u001b[0m\n\u001b[0m\u001b[0;32m   1727\u001b[0m             \u001b[0m_check_chunk_size\u001b[0m\u001b[1;33m(\u001b[0m\u001b[0mD_chunk\u001b[0m\u001b[1;33m,\u001b[0m \u001b[0mchunk_size\u001b[0m\u001b[1;33m)\u001b[0m\u001b[1;33m\u001b[0m\u001b[1;33m\u001b[0m\u001b[0m\n\u001b[0;32m   1728\u001b[0m         \u001b[1;32myield\u001b[0m \u001b[0mD_chunk\u001b[0m\u001b[1;33m\u001b[0m\u001b[1;33m\u001b[0m\u001b[0m\n",
      "\u001b[1;32m~\\anaconda3\\lib\\site-packages\\sklearn\\neighbors\\_base.py\u001b[0m in \u001b[0;36m_kneighbors_reduce_func\u001b[1;34m(self, dist, start, n_neighbors, return_distance)\u001b[0m\n\u001b[0;32m    632\u001b[0m         \"\"\"\n\u001b[0;32m    633\u001b[0m         \u001b[0msample_range\u001b[0m \u001b[1;33m=\u001b[0m \u001b[0mnp\u001b[0m\u001b[1;33m.\u001b[0m\u001b[0marange\u001b[0m\u001b[1;33m(\u001b[0m\u001b[0mdist\u001b[0m\u001b[1;33m.\u001b[0m\u001b[0mshape\u001b[0m\u001b[1;33m[\u001b[0m\u001b[1;36m0\u001b[0m\u001b[1;33m]\u001b[0m\u001b[1;33m)\u001b[0m\u001b[1;33m[\u001b[0m\u001b[1;33m:\u001b[0m\u001b[1;33m,\u001b[0m \u001b[1;32mNone\u001b[0m\u001b[1;33m]\u001b[0m\u001b[1;33m\u001b[0m\u001b[1;33m\u001b[0m\u001b[0m\n\u001b[1;32m--> 634\u001b[1;33m         \u001b[0mneigh_ind\u001b[0m \u001b[1;33m=\u001b[0m \u001b[0mnp\u001b[0m\u001b[1;33m.\u001b[0m\u001b[0margpartition\u001b[0m\u001b[1;33m(\u001b[0m\u001b[0mdist\u001b[0m\u001b[1;33m,\u001b[0m \u001b[0mn_neighbors\u001b[0m \u001b[1;33m-\u001b[0m \u001b[1;36m1\u001b[0m\u001b[1;33m,\u001b[0m \u001b[0maxis\u001b[0m\u001b[1;33m=\u001b[0m\u001b[1;36m1\u001b[0m\u001b[1;33m)\u001b[0m\u001b[1;33m\u001b[0m\u001b[1;33m\u001b[0m\u001b[0m\n\u001b[0m\u001b[0;32m    635\u001b[0m         \u001b[0mneigh_ind\u001b[0m \u001b[1;33m=\u001b[0m \u001b[0mneigh_ind\u001b[0m\u001b[1;33m[\u001b[0m\u001b[1;33m:\u001b[0m\u001b[1;33m,\u001b[0m \u001b[1;33m:\u001b[0m\u001b[0mn_neighbors\u001b[0m\u001b[1;33m]\u001b[0m\u001b[1;33m\u001b[0m\u001b[1;33m\u001b[0m\u001b[0m\n\u001b[0;32m    636\u001b[0m         \u001b[1;31m# argpartition doesn't guarantee sorted order, so we sort again\u001b[0m\u001b[1;33m\u001b[0m\u001b[1;33m\u001b[0m\u001b[0m\n",
      "\u001b[1;32m<__array_function__ internals>\u001b[0m in \u001b[0;36margpartition\u001b[1;34m(*args, **kwargs)\u001b[0m\n",
      "\u001b[1;32m~\\anaconda3\\lib\\site-packages\\numpy\\core\\fromnumeric.py\u001b[0m in \u001b[0;36margpartition\u001b[1;34m(a, kth, axis, kind, order)\u001b[0m\n\u001b[0;32m    835\u001b[0m \u001b[1;33m\u001b[0m\u001b[0m\n\u001b[0;32m    836\u001b[0m     \"\"\"\n\u001b[1;32m--> 837\u001b[1;33m     \u001b[1;32mreturn\u001b[0m \u001b[0m_wrapfunc\u001b[0m\u001b[1;33m(\u001b[0m\u001b[0ma\u001b[0m\u001b[1;33m,\u001b[0m \u001b[1;34m'argpartition'\u001b[0m\u001b[1;33m,\u001b[0m \u001b[0mkth\u001b[0m\u001b[1;33m,\u001b[0m \u001b[0maxis\u001b[0m\u001b[1;33m=\u001b[0m\u001b[0maxis\u001b[0m\u001b[1;33m,\u001b[0m \u001b[0mkind\u001b[0m\u001b[1;33m=\u001b[0m\u001b[0mkind\u001b[0m\u001b[1;33m,\u001b[0m \u001b[0morder\u001b[0m\u001b[1;33m=\u001b[0m\u001b[0morder\u001b[0m\u001b[1;33m)\u001b[0m\u001b[1;33m\u001b[0m\u001b[1;33m\u001b[0m\u001b[0m\n\u001b[0m\u001b[0;32m    838\u001b[0m \u001b[1;33m\u001b[0m\u001b[0m\n\u001b[0;32m    839\u001b[0m \u001b[1;33m\u001b[0m\u001b[0m\n",
      "\u001b[1;32m~\\anaconda3\\lib\\site-packages\\numpy\\core\\fromnumeric.py\u001b[0m in \u001b[0;36m_wrapfunc\u001b[1;34m(obj, method, *args, **kwds)\u001b[0m\n\u001b[0;32m     56\u001b[0m \u001b[1;33m\u001b[0m\u001b[0m\n\u001b[0;32m     57\u001b[0m     \u001b[1;32mtry\u001b[0m\u001b[1;33m:\u001b[0m\u001b[1;33m\u001b[0m\u001b[1;33m\u001b[0m\u001b[0m\n\u001b[1;32m---> 58\u001b[1;33m         \u001b[1;32mreturn\u001b[0m \u001b[0mbound\u001b[0m\u001b[1;33m(\u001b[0m\u001b[1;33m*\u001b[0m\u001b[0margs\u001b[0m\u001b[1;33m,\u001b[0m \u001b[1;33m**\u001b[0m\u001b[0mkwds\u001b[0m\u001b[1;33m)\u001b[0m\u001b[1;33m\u001b[0m\u001b[1;33m\u001b[0m\u001b[0m\n\u001b[0m\u001b[0;32m     59\u001b[0m     \u001b[1;32mexcept\u001b[0m \u001b[0mTypeError\u001b[0m\u001b[1;33m:\u001b[0m\u001b[1;33m\u001b[0m\u001b[1;33m\u001b[0m\u001b[0m\n\u001b[0;32m     60\u001b[0m         \u001b[1;31m# A TypeError occurs if the object does have such a method in its\u001b[0m\u001b[1;33m\u001b[0m\u001b[1;33m\u001b[0m\u001b[0m\n",
      "\u001b[1;31mKeyboardInterrupt\u001b[0m: "
     ]
    }
   ],
   "source": [
    "# KNeighborsClassifier\n",
    "\n",
    "outlier_knn_model = KNeighborsClassifier(n_jobs=-1)\n",
    "outlier_knn_model.fit(X_train_sm, y_train_sm)\n",
    "outlier_knn_acc = outlier_knn_model.score(X_test, y_test)\n",
    "print(\"K-Nearest-Neighbors Accuracy:\", outlier_knn_acc)"
   ]
  },
  {
   "cell_type": "markdown",
   "metadata": {
    "id": "QZf3nfE9NPsz"
   },
   "source": [
    "Was trying for other modelling algorithms but due to hardware capabilities it was taking long time so had to interrput in between."
   ]
  },
  {
   "cell_type": "markdown",
   "metadata": {
    "id": "GwCO60qLOuqK"
   },
   "source": [
    "###  Limitations: \n",
    "\n",
    "#### Due to limited computational capabilities was only able to work with limited number of features to keep our models simple and also couldn't utiize Ensemble Techniques and Hyper Paramter Tuning (using Grid Search CV).  "
   ]
  },
  {
   "cell_type": "markdown",
   "metadata": {
    "id": "uJjjDJIuP8-e"
   },
   "source": [
    "### Scope: \n",
    "\n",
    "#### Could look into more sophesticated techniques such as Neural Networks, Ensemble techniques to further enhance the performance of our classification models."
   ]
  },
  {
   "cell_type": "markdown",
   "metadata": {
    "id": "IejdSpylNzeH"
   },
   "source": [
    "### Conclusion: \n",
    "\n",
    "#### Was able to acheive almost 88.23% accuracy in classifying our Target Variable, using Logistic Regression after using SMOTE (to counter imbalance of the Target variable), which was a significant increase compared to previous versions of the models built."
   ]
  }
 ],
 "metadata": {
  "accelerator": "TPU",
  "colab": {
   "authorship_tag": "ABX9TyPe4EW7CrVIixtJkGKUXBtQ",
   "name": "Popularity_Prediction.ipynb",
   "provenance": []
  },
  "kernelspec": {
   "display_name": "Python 3 (ipykernel)",
   "language": "python",
   "name": "python3"
  },
  "language_info": {
   "codemirror_mode": {
    "name": "ipython",
    "version": 3
   },
   "file_extension": ".py",
   "mimetype": "text/x-python",
   "name": "python",
   "nbconvert_exporter": "python",
   "pygments_lexer": "ipython3",
   "version": "3.9.7"
  }
 },
 "nbformat": 4,
 "nbformat_minor": 1
}
